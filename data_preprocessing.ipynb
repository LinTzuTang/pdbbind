{
 "cells": [
  {
   "cell_type": "code",
   "execution_count": 11,
   "metadata": {},
   "outputs": [],
   "source": [
    "import os\n",
    "import shutil\n",
    "import pandas as pd\n",
    "from Bio import SeqIO\n",
    "import pandas as pd\n",
    "\n",
    "# Define paths\n",
    "fasta_file = \"pdbbind_NL2020_rna.fasta\"\n",
    "source_dir = \"pdbbind_dataset\"\n",
    "destination_dir = \"pdbbind_dataset_rna\"\n",
    "\n",
    "# Define directories to search and copy\n",
    "folders = [\n",
    "    \"parsed_rna3db_rnas_whole_pdb\",\n",
    "    \"complex_database\",\n",
    "    \"parsed_ligand_pdb\",\n",
    "    \"parsed_ligand\",\n",
    "    \"parsed_rna3db_rnas_whole\"\n",
    "]\n",
    "\n",
    "# Read the FASTA file and extract IDs\n",
    "def read_fasta_to_df(fasta_file):\n",
    "    # Create a list to store sequence IDs and sequences\n",
    "    records = []\n",
    "    \n",
    "    # Use SeqIO to parse the FASTA file\n",
    "    for record in SeqIO.parse(fasta_file, \"fasta\"):\n",
    "        records.append([record.id, str(record.seq)])\n",
    "    \n",
    "    # Convert the list to a DataFrame\n",
    "    df = pd.DataFrame(records, columns=['ID', 'Sequence'])\n",
    "    return df\n",
    "\n",
    "def remove_ids_from_df(df, ids_to_remove):\n",
    "    # Filter the DataFrame to exclude rows with IDs in the ids_to_remove list\n",
    "    filtered_df = df[~df['ID'].isin(ids_to_remove)]\n",
    "    return filtered_df\n",
    "\n",
    "# Function to search and copy matching files\n",
    "def search_and_copy(fasta_ids, source_dir, destination_dir, folders):\n",
    "    for folder in folders:\n",
    "        source_folder = os.path.join(source_dir, folder)\n",
    "        dest_folder = os.path.join(destination_dir, folder)\n",
    "\n",
    "        if not os.path.exists(dest_folder):\n",
    "            os.makedirs(dest_folder)\n",
    "        \n",
    "        for fasta_id in fasta_ids:\n",
    "            # Search for files that start with the ID in the current folder\n",
    "            for file_name in os.listdir(source_folder):\n",
    "                if file_name.startswith(fasta_id):\n",
    "                    source_file_path = os.path.join(source_folder, file_name)\n",
    "                    dest_file_path = os.path.join(dest_folder, file_name)\n",
    "                    \n",
    "                    # Copy the file to the destination directory\n",
    "                    shutil.copy2(source_file_path, dest_file_path)\n",
    "                    print(f\"Copied {file_name} to {dest_folder}\")\n",
    "\n",
    "# Main function to handle the process\n",
    "def main():\n",
    "    df = read_fasta_to_df(fasta_file)\n",
    "    ids_to_remove = [\"1q2t\", \"2kdq\", \"3sd3\", \"5uzz\", \"6d2u\", \"2rsk\"]\n",
    "    fasta_ids = remove_ids_from_df(df, ids_to_remove)['ID']\n",
    "    search_and_copy(fasta_ids, source_dir, destination_dir, folders)\n"
   ]
  },
  {
   "cell_type": "code",
   "execution_count": 23,
   "metadata": {},
   "outputs": [
    {
     "name": "stdout",
     "output_type": "stream",
     "text": [
      "Copied 5c7u_rna.pdb to pdbbind_dataset_rna/parsed_rna3db_rnas_whole_pdb\n",
      "Copied 6e8s_rna.pdb to pdbbind_dataset_rna/parsed_rna3db_rnas_whole_pdb\n",
      "Copied 5kpy_rna.pdb to pdbbind_dataset_rna/parsed_rna3db_rnas_whole_pdb\n",
      "Copied 6c63_rna.pdb to pdbbind_dataset_rna/parsed_rna3db_rnas_whole_pdb\n",
      "Copied 3slm_rna.pdb to pdbbind_dataset_rna/parsed_rna3db_rnas_whole_pdb\n",
      "Copied 4nyg_rna.pdb to pdbbind_dataset_rna/parsed_rna3db_rnas_whole_pdb\n",
      "Copied 2b57_rna.pdb to pdbbind_dataset_rna/parsed_rna3db_rnas_whole_pdb\n",
      "Copied 4lvv_rna.pdb to pdbbind_dataset_rna/parsed_rna3db_rnas_whole_pdb\n",
      "Copied 3mur_rna.pdb to pdbbind_dataset_rna/parsed_rna3db_rnas_whole_pdb\n",
      "Copied 1f27_rna.pdb to pdbbind_dataset_rna/parsed_rna3db_rnas_whole_pdb\n",
      "Copied 2xo1_rna.pdb to pdbbind_dataset_rna/parsed_rna3db_rnas_whole_pdb\n",
      "Copied 2kgp_rna.pdb to pdbbind_dataset_rna/parsed_rna3db_rnas_whole_pdb\n",
      "Copied 3fo6_rna.pdb to pdbbind_dataset_rna/parsed_rna3db_rnas_whole_pdb\n",
      "Copied 3jq4_rna.pdb to pdbbind_dataset_rna/parsed_rna3db_rnas_whole_pdb\n",
      "Copied 2ktz_rna.pdb to pdbbind_dataset_rna/parsed_rna3db_rnas_whole_pdb\n",
      "Copied 4lvx_rna.pdb to pdbbind_dataset_rna/parsed_rna3db_rnas_whole_pdb\n",
      "Copied 3mum_rna.pdb to pdbbind_dataset_rna/parsed_rna3db_rnas_whole_pdb\n",
      "Copied 4nyb_rna.pdb to pdbbind_dataset_rna/parsed_rna3db_rnas_whole_pdb\n",
      "Copied 2f4u_rna.pdb to pdbbind_dataset_rna/parsed_rna3db_rnas_whole_pdb\n",
      "Copied 1f1t_rna.pdb to pdbbind_dataset_rna/parsed_rna3db_rnas_whole_pdb\n",
      "Copied 2l94_rna.pdb to pdbbind_dataset_rna/parsed_rna3db_rnas_whole_pdb\n",
      "Copied 4aob_rna.pdb to pdbbind_dataset_rna/parsed_rna3db_rnas_whole_pdb\n",
      "Copied 3la5_rna.pdb to pdbbind_dataset_rna/parsed_rna3db_rnas_whole_pdb\n",
      "Copied 2f4t_rna.pdb to pdbbind_dataset_rna/parsed_rna3db_rnas_whole_pdb\n",
      "Copied 4lw0_rna.pdb to pdbbind_dataset_rna/parsed_rna3db_rnas_whole_pdb\n",
      "Copied 4znp_rna.pdb to pdbbind_dataset_rna/parsed_rna3db_rnas_whole_pdb\n",
      "Copied 5btp_rna.pdb to pdbbind_dataset_rna/parsed_rna3db_rnas_whole_pdb\n",
      "Copied 3b31_rna.pdb to pdbbind_dataset_rna/parsed_rna3db_rnas_whole_pdb\n",
      "Copied 4qk8_rna.pdb to pdbbind_dataset_rna/parsed_rna3db_rnas_whole_pdb\n",
      "Copied 4nya_rna.pdb to pdbbind_dataset_rna/parsed_rna3db_rnas_whole_pdb\n",
      "Copied 2bee_rna.pdb to pdbbind_dataset_rna/parsed_rna3db_rnas_whole_pdb\n",
      "Copied 3ger_rna.pdb to pdbbind_dataset_rna/parsed_rna3db_rnas_whole_pdb\n",
      "Copied 1yrj_rna.pdb to pdbbind_dataset_rna/parsed_rna3db_rnas_whole_pdb\n",
      "Copied 6hmo_rna.pdb to pdbbind_dataset_rna/parsed_rna3db_rnas_whole_pdb\n",
      "Copied 3owz_rna.pdb to pdbbind_dataset_rna/parsed_rna3db_rnas_whole_pdb\n",
      "Copied 4l81_rna.pdb to pdbbind_dataset_rna/parsed_rna3db_rnas_whole_pdb\n",
      "Copied 4fe5_rna.pdb to pdbbind_dataset_rna/parsed_rna3db_rnas_whole_pdb\n",
      "Copied 3q50_rna.pdb to pdbbind_dataset_rna/parsed_rna3db_rnas_whole_pdb\n",
      "Copied 6qn3_rna.pdb to pdbbind_dataset_rna/parsed_rna3db_rnas_whole_pdb\n",
      "Copied 4yb0_rna.pdb to pdbbind_dataset_rna/parsed_rna3db_rnas_whole_pdb\n",
      "Copied 6fz0_rna.pdb to pdbbind_dataset_rna/parsed_rna3db_rnas_whole_pdb\n",
      "Copied 5lwj_rna.pdb to pdbbind_dataset_rna/parsed_rna3db_rnas_whole_pdb\n",
      "Copied 3q3z_rna.pdb to pdbbind_dataset_rna/parsed_rna3db_rnas_whole_pdb\n",
      "Copied 6ck5_rna.pdb to pdbbind_dataset_rna/parsed_rna3db_rnas_whole_pdb\n",
      "Copied 4nyc_rna.pdb to pdbbind_dataset_rna/parsed_rna3db_rnas_whole_pdb\n",
      "Copied 3ds7_rna.pdb to pdbbind_dataset_rna/parsed_rna3db_rnas_whole_pdb\n",
      "Copied 4lvy_rna.pdb to pdbbind_dataset_rna/parsed_rna3db_rnas_whole_pdb\n",
      "Copied 6c65_rna.pdb to pdbbind_dataset_rna/parsed_rna3db_rnas_whole_pdb\n",
      "Copied 6c64_rna.pdb to pdbbind_dataset_rna/parsed_rna3db_rnas_whole_pdb\n",
      "Copied 6dmc_rna.pdb to pdbbind_dataset_rna/parsed_rna3db_rnas_whole_pdb\n",
      "Copied 2n0j_rna.pdb to pdbbind_dataset_rna/parsed_rna3db_rnas_whole_pdb\n",
      "Copied 2o3w_rna.pdb to pdbbind_dataset_rna/parsed_rna3db_rnas_whole_pdb\n",
      "Copied 1fyp_rna.pdb to pdbbind_dataset_rna/parsed_rna3db_rnas_whole_pdb\n",
      "Copied 6dlt_rna.pdb to pdbbind_dataset_rna/parsed_rna3db_rnas_whole_pdb\n",
      "Copied 4kqy_rna.pdb to pdbbind_dataset_rna/parsed_rna3db_rnas_whole_pdb\n",
      "Copied 1uts_rna.pdb to pdbbind_dataset_rna/parsed_rna3db_rnas_whole_pdb\n",
      "Copied 3s4p_rna.pdb to pdbbind_dataset_rna/parsed_rna3db_rnas_whole_pdb\n",
      "Copied 1qd3_rna.pdb to pdbbind_dataset_rna/parsed_rna3db_rnas_whole_pdb\n",
      "Copied 6p2h_rna.pdb to pdbbind_dataset_rna/parsed_rna3db_rnas_whole_pdb\n",
      "Copied 3e5c_rna.pdb to pdbbind_dataset_rna/parsed_rna3db_rnas_whole_pdb\n",
      "Copied 4w90_rna.pdb to pdbbind_dataset_rna/parsed_rna3db_rnas_whole_pdb\n",
      "Copied 4rzd_rna.pdb to pdbbind_dataset_rna/parsed_rna3db_rnas_whole_pdb\n",
      "Copied 2lwk_rna.pdb to pdbbind_dataset_rna/parsed_rna3db_rnas_whole_pdb\n",
      "Copied 3g4m_rna.pdb to pdbbind_dataset_rna/parsed_rna3db_rnas_whole_pdb\n",
      "Copied 5uee_rna.pdb to pdbbind_dataset_rna/parsed_rna3db_rnas_whole_pdb\n",
      "Copied 5c7w_rna.pdb to pdbbind_dataset_rna/parsed_rna3db_rnas_whole_pdb\n",
      "Copied 2xnw_rna.pdb to pdbbind_dataset_rna/parsed_rna3db_rnas_whole_pdb\n",
      "Copied 2f4s_rna.pdb to pdbbind_dataset_rna/parsed_rna3db_rnas_whole_pdb\n",
      "Copied 4yaz_rna.pdb to pdbbind_dataset_rna/parsed_rna3db_rnas_whole_pdb\n",
      "Copied 2g9c_rna.pdb to pdbbind_dataset_rna/parsed_rna3db_rnas_whole_pdb\n",
      "Copied 3mxh_rna.pdb to pdbbind_dataset_rna/parsed_rna3db_rnas_whole_pdb\n",
      "Copied 3fo4_rna.pdb to pdbbind_dataset_rna/parsed_rna3db_rnas_whole_pdb\n",
      "Copied 2ku0_rna.pdb to pdbbind_dataset_rna/parsed_rna3db_rnas_whole_pdb\n",
      "Copied 4lvw_rna.pdb to pdbbind_dataset_rna/parsed_rna3db_rnas_whole_pdb\n",
      "Copied 3gog_rna.pdb to pdbbind_dataset_rna/parsed_rna3db_rnas_whole_pdb\n",
      "Copied 3ges_rna.pdb to pdbbind_dataset_rna/parsed_rna3db_rnas_whole_pdb\n",
      "Copied 1ykv_rna.pdb to pdbbind_dataset_rna/parsed_rna3db_rnas_whole_pdb\n",
      "Copied 4jf2_rna.pdb to pdbbind_dataset_rna/parsed_rna3db_rnas_whole_pdb\n",
      "Copied 4lx5_rna.pdb to pdbbind_dataset_rna/parsed_rna3db_rnas_whole_pdb\n",
      "Copied 2ygh_rna.pdb to pdbbind_dataset_rna/parsed_rna3db_rnas_whole_pdb\n",
      "Copied 6e84_rna.pdb to pdbbind_dataset_rna/parsed_rna3db_rnas_whole_pdb\n",
      "Copied 2ydh_rna.pdb to pdbbind_dataset_rna/parsed_rna3db_rnas_whole_pdb\n",
      "Copied 6e8u_rna.pdb to pdbbind_dataset_rna/parsed_rna3db_rnas_whole_pdb\n",
      "Copied 2g5k_rna.pdb to pdbbind_dataset_rna/parsed_rna3db_rnas_whole_pdb\n",
      "Copied 1arj_rna.pdb to pdbbind_dataset_rna/parsed_rna3db_rnas_whole_pdb\n",
      "Copied 1uud_rna.pdb to pdbbind_dataset_rna/parsed_rna3db_rnas_whole_pdb\n",
      "Copied 3got_rna.pdb to pdbbind_dataset_rna/parsed_rna3db_rnas_whole_pdb\n",
      "Copied 1q8n_rna.pdb to pdbbind_dataset_rna/parsed_rna3db_rnas_whole_pdb\n",
      "Copied 4erj_rna.pdb to pdbbind_dataset_rna/parsed_rna3db_rnas_whole_pdb\n",
      "Copied 2be0_rna.pdb to pdbbind_dataset_rna/parsed_rna3db_rnas_whole_pdb\n",
      "Copied 5v3f_rna.pdb to pdbbind_dataset_rna/parsed_rna3db_rnas_whole_pdb\n",
      "Copied 6e8t_rna.pdb to pdbbind_dataset_rna/parsed_rna3db_rnas_whole_pdb\n",
      "Copied 2xo0_rna.pdb to pdbbind_dataset_rna/parsed_rna3db_rnas_whole_pdb\n",
      "Copied 4nyd_rna.pdb to pdbbind_dataset_rna/parsed_rna3db_rnas_whole_pdb\n",
      "Copied 2o3x_rna.pdb to pdbbind_dataset_rna/parsed_rna3db_rnas_whole_pdb\n",
      "Copied 4oqu_rna.pdb to pdbbind_dataset_rna/parsed_rna3db_rnas_whole_pdb\n",
      "Copied 1i9v_rna.pdb to pdbbind_dataset_rna/parsed_rna3db_rnas_whole_pdb\n",
      "Copied 6e81_rna.pdb to pdbbind_dataset_rna/parsed_rna3db_rnas_whole_pdb\n",
      "Copied 4lx6_rna.pdb to pdbbind_dataset_rna/parsed_rna3db_rnas_whole_pdb\n",
      "Copied 6hbt_rna.pdb to pdbbind_dataset_rna/parsed_rna3db_rnas_whole_pdb\n",
      "Copied 3gao_rna.pdb to pdbbind_dataset_rna/parsed_rna3db_rnas_whole_pdb\n",
      "Copied 4qln_rna.pdb to pdbbind_dataset_rna/parsed_rna3db_rnas_whole_pdb\n",
      "Copied 4qk9_rna.pdb to pdbbind_dataset_rna/parsed_rna3db_rnas_whole_pdb\n",
      "Copied 4lvz_rna.pdb to pdbbind_dataset_rna/parsed_rna3db_rnas_whole_pdb\n",
      "Copied 6ck4_rna.pdb to pdbbind_dataset_rna/parsed_rna3db_rnas_whole_pdb\n",
      "Copied 4erl_rna.pdb to pdbbind_dataset_rna/parsed_rna3db_rnas_whole_pdb\n",
      "Copied 4xwf_rna.pdb to pdbbind_dataset_rna/parsed_rna3db_rnas_whole_pdb\n",
      "Copied 1byj_rna.pdb to pdbbind_dataset_rna/parsed_rna3db_rnas_whole_pdb\n",
      "Copied 4qlm_rna.pdb to pdbbind_dataset_rna/parsed_rna3db_rnas_whole_pdb\n",
      "Copied 3npn_rna.pdb to pdbbind_dataset_rna/parsed_rna3db_rnas_whole_pdb\n",
      "Copied 3fu2_rna.pdb to pdbbind_dataset_rna/parsed_rna3db_rnas_whole_pdb\n",
      "Copied 2kx8_rna.pdb to pdbbind_dataset_rna/parsed_rna3db_rnas_whole_pdb\n",
      "Copied 6hag_rna.pdb to pdbbind_dataset_rna/parsed_rna3db_rnas_whole_pdb\n",
      "Copied 4ts0_rna.pdb to pdbbind_dataset_rna/parsed_rna3db_rnas_whole_pdb\n",
      "Copied 2au4_rna.pdb to pdbbind_dataset_rna/parsed_rna3db_rnas_whole_pdb\n",
      "Copied 4ts2_rna.pdb to pdbbind_dataset_rna/parsed_rna3db_rnas_whole_pdb\n",
      "Copied 2xnz_rna.pdb to pdbbind_dataset_rna/parsed_rna3db_rnas_whole_pdb\n",
      "Copied 2mxs_rna.pdb to pdbbind_dataset_rna/parsed_rna3db_rnas_whole_pdb\n",
      "Copied 5c7u.cif to pdbbind_dataset_rna/complex_database\n",
      "Copied 6e8s.cif to pdbbind_dataset_rna/complex_database\n",
      "Copied 5kpy.cif to pdbbind_dataset_rna/complex_database\n",
      "Copied 6c63.cif to pdbbind_dataset_rna/complex_database\n",
      "Copied 3slm.cif to pdbbind_dataset_rna/complex_database\n",
      "Copied 4nyg.cif to pdbbind_dataset_rna/complex_database\n",
      "Copied 2b57.cif to pdbbind_dataset_rna/complex_database\n",
      "Copied 4lvv.cif to pdbbind_dataset_rna/complex_database\n",
      "Copied 3mur.cif to pdbbind_dataset_rna/complex_database\n",
      "Copied 1f27.cif to pdbbind_dataset_rna/complex_database\n",
      "Copied 2xo1.cif to pdbbind_dataset_rna/complex_database\n",
      "Copied 2kgp.cif to pdbbind_dataset_rna/complex_database\n",
      "Copied 3fo6.cif to pdbbind_dataset_rna/complex_database\n",
      "Copied 3jq4.cif to pdbbind_dataset_rna/complex_database\n",
      "Copied 2ktz.cif to pdbbind_dataset_rna/complex_database\n",
      "Copied 4lvx.cif to pdbbind_dataset_rna/complex_database\n",
      "Copied 3mum.cif to pdbbind_dataset_rna/complex_database\n",
      "Copied 4nyb.cif to pdbbind_dataset_rna/complex_database\n",
      "Copied 2f4u.cif to pdbbind_dataset_rna/complex_database\n",
      "Copied 1f1t.cif to pdbbind_dataset_rna/complex_database\n",
      "Copied 2l94.cif to pdbbind_dataset_rna/complex_database\n",
      "Copied 4aob.cif to pdbbind_dataset_rna/complex_database\n",
      "Copied 3la5.cif to pdbbind_dataset_rna/complex_database\n",
      "Copied 2f4t.cif to pdbbind_dataset_rna/complex_database\n",
      "Copied 4lw0.cif to pdbbind_dataset_rna/complex_database\n",
      "Copied 4znp.cif to pdbbind_dataset_rna/complex_database\n",
      "Copied 5btp.cif to pdbbind_dataset_rna/complex_database\n",
      "Copied 3b31.cif to pdbbind_dataset_rna/complex_database\n",
      "Copied 4qk8.cif to pdbbind_dataset_rna/complex_database\n",
      "Copied 4nya.cif to pdbbind_dataset_rna/complex_database\n",
      "Copied 2bee.cif to pdbbind_dataset_rna/complex_database\n",
      "Copied 3ger.cif to pdbbind_dataset_rna/complex_database\n",
      "Copied 1yrj.cif to pdbbind_dataset_rna/complex_database\n",
      "Copied 6hmo.cif to pdbbind_dataset_rna/complex_database\n",
      "Copied 3owz.cif to pdbbind_dataset_rna/complex_database\n",
      "Copied 4l81.cif to pdbbind_dataset_rna/complex_database\n",
      "Copied 4fe5.cif to pdbbind_dataset_rna/complex_database\n",
      "Copied 3q50.cif to pdbbind_dataset_rna/complex_database\n",
      "Copied 6qn3.cif to pdbbind_dataset_rna/complex_database\n",
      "Copied 4yb0.cif to pdbbind_dataset_rna/complex_database\n",
      "Copied 6fz0.cif to pdbbind_dataset_rna/complex_database\n",
      "Copied 5lwj.cif to pdbbind_dataset_rna/complex_database\n",
      "Copied 3q3z.cif to pdbbind_dataset_rna/complex_database\n",
      "Copied 6ck5.cif to pdbbind_dataset_rna/complex_database\n",
      "Copied 4nyc.cif to pdbbind_dataset_rna/complex_database\n",
      "Copied 3ds7.cif to pdbbind_dataset_rna/complex_database\n",
      "Copied 4lvy.cif to pdbbind_dataset_rna/complex_database\n",
      "Copied 6c65.cif to pdbbind_dataset_rna/complex_database\n",
      "Copied 6c64.cif to pdbbind_dataset_rna/complex_database\n",
      "Copied 6dmc.cif to pdbbind_dataset_rna/complex_database\n",
      "Copied 2n0j.cif to pdbbind_dataset_rna/complex_database\n",
      "Copied 2o3w.cif to pdbbind_dataset_rna/complex_database\n",
      "Copied 1fyp.cif to pdbbind_dataset_rna/complex_database\n",
      "Copied 6dlt.cif to pdbbind_dataset_rna/complex_database\n",
      "Copied 4kqy.cif to pdbbind_dataset_rna/complex_database\n",
      "Copied 1uts.cif to pdbbind_dataset_rna/complex_database\n",
      "Copied 3s4p.cif to pdbbind_dataset_rna/complex_database\n",
      "Copied 1qd3.cif to pdbbind_dataset_rna/complex_database\n",
      "Copied 6p2h.cif to pdbbind_dataset_rna/complex_database\n",
      "Copied 3e5c.cif to pdbbind_dataset_rna/complex_database\n",
      "Copied 4w90.cif to pdbbind_dataset_rna/complex_database\n",
      "Copied 4rzd.cif to pdbbind_dataset_rna/complex_database\n",
      "Copied 2lwk.cif to pdbbind_dataset_rna/complex_database\n",
      "Copied 3g4m.cif to pdbbind_dataset_rna/complex_database\n",
      "Copied 5uee.cif to pdbbind_dataset_rna/complex_database\n",
      "Copied 5c7w.cif to pdbbind_dataset_rna/complex_database\n",
      "Copied 2xnw.cif to pdbbind_dataset_rna/complex_database\n",
      "Copied 2f4s.cif to pdbbind_dataset_rna/complex_database\n",
      "Copied 4yaz.cif to pdbbind_dataset_rna/complex_database\n",
      "Copied 2g9c.cif to pdbbind_dataset_rna/complex_database\n",
      "Copied 3mxh.cif to pdbbind_dataset_rna/complex_database\n",
      "Copied 3fo4.cif to pdbbind_dataset_rna/complex_database\n",
      "Copied 2ku0.cif to pdbbind_dataset_rna/complex_database\n",
      "Copied 4lvw.cif to pdbbind_dataset_rna/complex_database\n",
      "Copied 3gog.cif to pdbbind_dataset_rna/complex_database\n",
      "Copied 3ges.cif to pdbbind_dataset_rna/complex_database\n",
      "Copied 1ykv.cif to pdbbind_dataset_rna/complex_database\n",
      "Copied 4jf2.cif to pdbbind_dataset_rna/complex_database\n",
      "Copied 4lx5.cif to pdbbind_dataset_rna/complex_database\n",
      "Copied 2ygh.cif to pdbbind_dataset_rna/complex_database\n",
      "Copied 6e84.cif to pdbbind_dataset_rna/complex_database\n",
      "Copied 2ydh.cif to pdbbind_dataset_rna/complex_database\n",
      "Copied 6e8u.cif to pdbbind_dataset_rna/complex_database\n",
      "Copied 2g5k.cif to pdbbind_dataset_rna/complex_database\n",
      "Copied 1arj.cif to pdbbind_dataset_rna/complex_database\n",
      "Copied 1uud.cif to pdbbind_dataset_rna/complex_database\n",
      "Copied 3got.cif to pdbbind_dataset_rna/complex_database\n",
      "Copied 1q8n.cif to pdbbind_dataset_rna/complex_database\n",
      "Copied 4erj.cif to pdbbind_dataset_rna/complex_database\n",
      "Copied 2be0.cif to pdbbind_dataset_rna/complex_database\n",
      "Copied 5v3f.cif to pdbbind_dataset_rna/complex_database\n",
      "Copied 6e8t.cif to pdbbind_dataset_rna/complex_database\n",
      "Copied 2xo0.cif to pdbbind_dataset_rna/complex_database\n",
      "Copied 4nyd.cif to pdbbind_dataset_rna/complex_database\n",
      "Copied 2o3x.cif to pdbbind_dataset_rna/complex_database\n",
      "Copied 4oqu.cif to pdbbind_dataset_rna/complex_database\n",
      "Copied 1i9v.cif to pdbbind_dataset_rna/complex_database\n",
      "Copied 6e81.cif to pdbbind_dataset_rna/complex_database\n",
      "Copied 4lx6.cif to pdbbind_dataset_rna/complex_database\n",
      "Copied 6hbt.cif to pdbbind_dataset_rna/complex_database\n",
      "Copied 3gao.cif to pdbbind_dataset_rna/complex_database\n",
      "Copied 4qln.cif to pdbbind_dataset_rna/complex_database\n",
      "Copied 4qk9.cif to pdbbind_dataset_rna/complex_database\n",
      "Copied 4lvz.cif to pdbbind_dataset_rna/complex_database\n",
      "Copied 6ck4.cif to pdbbind_dataset_rna/complex_database\n",
      "Copied 4erl.cif to pdbbind_dataset_rna/complex_database\n",
      "Copied 4xwf.cif to pdbbind_dataset_rna/complex_database\n",
      "Copied 1byj.cif to pdbbind_dataset_rna/complex_database\n",
      "Copied 4qlm.cif to pdbbind_dataset_rna/complex_database\n",
      "Copied 3npn.cif to pdbbind_dataset_rna/complex_database\n",
      "Copied 3fu2.cif to pdbbind_dataset_rna/complex_database\n",
      "Copied 2kx8.cif to pdbbind_dataset_rna/complex_database\n",
      "Copied 6hag.cif to pdbbind_dataset_rna/complex_database\n",
      "Copied 4ts0.cif to pdbbind_dataset_rna/complex_database\n",
      "Copied 2au4.cif to pdbbind_dataset_rna/complex_database\n",
      "Copied 4ts2.cif to pdbbind_dataset_rna/complex_database\n",
      "Copied 2xnz.cif to pdbbind_dataset_rna/complex_database\n",
      "Copied 2mxs.cif to pdbbind_dataset_rna/complex_database\n",
      "Copied 5c7u_HPA_I.pdb to pdbbind_dataset_rna/parsed_ligand_pdb\n",
      "Copied 6e8s_EKJ_G.pdb to pdbbind_dataset_rna/parsed_ligand_pdb\n",
      "Copied 6e8s_EKJ_C.pdb to pdbbind_dataset_rna/parsed_ligand_pdb\n",
      "Copied 5kpy_4PQ_B.pdb to pdbbind_dataset_rna/parsed_ligand_pdb\n",
      "Copied 6c63_EKJ_H.pdb to pdbbind_dataset_rna/parsed_ligand_pdb\n",
      "Copied 6c63_EKJ_K.pdb to pdbbind_dataset_rna/parsed_ligand_pdb\n",
      "Copied 6c63_EKJ_D.pdb to pdbbind_dataset_rna/parsed_ligand_pdb\n",
      "Copied 3slm_DGP_L.pdb to pdbbind_dataset_rna/parsed_ligand_pdb\n",
      "Copied 3slm_DGP_C.pdb to pdbbind_dataset_rna/parsed_ligand_pdb\n",
      "Copied 4nyg_VIB_B.pdb to pdbbind_dataset_rna/parsed_ligand_pdb\n",
      "Copied 2b57_6AP_L.pdb to pdbbind_dataset_rna/parsed_ligand_pdb\n",
      "Copied 4lvv_FFO_C.pdb to pdbbind_dataset_rna/parsed_ligand_pdb\n",
      "Copied 4lvv_FFO_B.pdb to pdbbind_dataset_rna/parsed_ligand_pdb\n",
      "Copied 3mur_C2E_C.pdb to pdbbind_dataset_rna/parsed_ligand_pdb\n",
      "Copied 1f27_BTN_H.pdb to pdbbind_dataset_rna/parsed_ligand_pdb\n",
      "Copied 2xo1_N6M_B.pdb to pdbbind_dataset_rna/parsed_ligand_pdb\n",
      "Copied 2kgp_MIX_B.pdb to pdbbind_dataset_rna/parsed_ligand_pdb\n",
      "Copied 3fo6_6GO_B.pdb to pdbbind_dataset_rna/parsed_ligand_pdb\n",
      "Copied 3jq4_LC2_C.pdb to pdbbind_dataset_rna/parsed_ligand_pdb\n",
      "Copied 2ktz_ISH_B.pdb to pdbbind_dataset_rna/parsed_ligand_pdb\n",
      "Copied 4lvx_H4B_C.pdb to pdbbind_dataset_rna/parsed_ligand_pdb\n",
      "Copied 4lvx_H4B_B.pdb to pdbbind_dataset_rna/parsed_ligand_pdb\n",
      "Copied 3mum_C2E_C.pdb to pdbbind_dataset_rna/parsed_ligand_pdb\n",
      "Copied 4nyb_2QC_B.pdb to pdbbind_dataset_rna/parsed_ligand_pdb\n",
      "Copied 2f4u_AB6_C.pdb to pdbbind_dataset_rna/parsed_ligand_pdb\n",
      "Copied 1f1t_ROS_J.pdb to pdbbind_dataset_rna/parsed_ligand_pdb\n",
      "Copied 2l94_L94_B.pdb to pdbbind_dataset_rna/parsed_ligand_pdb\n",
      "Copied 4aob_SAM_W.pdb to pdbbind_dataset_rna/parsed_ligand_pdb\n",
      "Copied 3la5_5AZ_L.pdb to pdbbind_dataset_rna/parsed_ligand_pdb\n",
      "Copied 2f4t_AB9_C.pdb to pdbbind_dataset_rna/parsed_ligand_pdb\n",
      "Copied 4lw0_ADE_B.pdb to pdbbind_dataset_rna/parsed_ligand_pdb\n",
      "Copied 4znp_AMZ_F.pdb to pdbbind_dataset_rna/parsed_ligand_pdb\n",
      "Copied 4znp_AMZ_C.pdb to pdbbind_dataset_rna/parsed_ligand_pdb\n",
      "Copied 5btp_AMZ_Q.pdb to pdbbind_dataset_rna/parsed_ligand_pdb\n",
      "Copied 5btp_AMZ_J.pdb to pdbbind_dataset_rna/parsed_ligand_pdb\n",
      "Copied 3b31_IRI_C.pdb to pdbbind_dataset_rna/parsed_ligand_pdb\n",
      "Copied 3b31_IRI_E.pdb to pdbbind_dataset_rna/parsed_ligand_pdb\n",
      "Copied 3b31_IRI_D.pdb to pdbbind_dataset_rna/parsed_ligand_pdb\n",
      "Copied 4qk8_2BA_B.pdb to pdbbind_dataset_rna/parsed_ligand_pdb\n",
      "Copied 4qk8_2BA_C.pdb to pdbbind_dataset_rna/parsed_ligand_pdb\n",
      "Copied 4nya_2QB_S.pdb to pdbbind_dataset_rna/parsed_ligand_pdb\n",
      "Copied 4nya_2QB_L.pdb to pdbbind_dataset_rna/parsed_ligand_pdb\n",
      "Copied 2bee_JS4_C.pdb to pdbbind_dataset_rna/parsed_ligand_pdb\n",
      "Copied 2bee_JS4_D.pdb to pdbbind_dataset_rna/parsed_ligand_pdb\n",
      "Copied 3ger_6GU_B.pdb to pdbbind_dataset_rna/parsed_ligand_pdb\n",
      "Copied 1yrj_AM2_C.pdb to pdbbind_dataset_rna/parsed_ligand_pdb\n",
      "Copied 1yrj_AM2_E.pdb to pdbbind_dataset_rna/parsed_ligand_pdb\n",
      "Copied 6hmo_GDZ_C.pdb to pdbbind_dataset_rna/parsed_ligand_pdb\n",
      "Copied 3owz_GLY_C.pdb to pdbbind_dataset_rna/parsed_ligand_pdb\n",
      "Copied 3owz_GLY_X.pdb to pdbbind_dataset_rna/parsed_ligand_pdb\n",
      "Copied 4l81_SAM_B.pdb to pdbbind_dataset_rna/parsed_ligand_pdb\n",
      "Copied 4fe5_HPA_B.pdb to pdbbind_dataset_rna/parsed_ligand_pdb\n",
      "Copied 3q50_PRF_B.pdb to pdbbind_dataset_rna/parsed_ligand_pdb\n",
      "Copied 6qn3_GLN_G.pdb to pdbbind_dataset_rna/parsed_ligand_pdb\n",
      "Copied 6qn3_GLN_L.pdb to pdbbind_dataset_rna/parsed_ligand_pdb\n",
      "Copied 4yb0_C2E_K.pdb to pdbbind_dataset_rna/parsed_ligand_pdb\n",
      "Copied 4yb0_C2E_D.pdb to pdbbind_dataset_rna/parsed_ligand_pdb\n",
      "Copied 6fz0_SAM_E.pdb to pdbbind_dataset_rna/parsed_ligand_pdb\n",
      "Copied 5lwj_GTP_B.pdb to pdbbind_dataset_rna/parsed_ligand_pdb\n",
      "Copied 3q3z_C2E_H.pdb to pdbbind_dataset_rna/parsed_ligand_pdb\n",
      "Copied 3q3z_C2E_L.pdb to pdbbind_dataset_rna/parsed_ligand_pdb\n",
      "Copied 3q3z_C2E_C.pdb to pdbbind_dataset_rna/parsed_ligand_pdb\n",
      "Copied 3q3z_C2E_Q.pdb to pdbbind_dataset_rna/parsed_ligand_pdb\n",
      "Copied 6ck5_PRP_IA.pdb to pdbbind_dataset_rna/parsed_ligand_pdb\n",
      "Copied 6ck5_PRP_S.pdb to pdbbind_dataset_rna/parsed_ligand_pdb\n",
      "Copied 4nyc_SVN_B.pdb to pdbbind_dataset_rna/parsed_ligand_pdb\n",
      "Copied 3ds7_GNG_I.pdb to pdbbind_dataset_rna/parsed_ligand_pdb\n",
      "Copied 3ds7_GNG_Q.pdb to pdbbind_dataset_rna/parsed_ligand_pdb\n",
      "Copied 4lvy_LYA_C.pdb to pdbbind_dataset_rna/parsed_ligand_pdb\n",
      "Copied 4lvy_LYA_B.pdb to pdbbind_dataset_rna/parsed_ligand_pdb\n",
      "Copied 6c65_EKJ_L.pdb to pdbbind_dataset_rna/parsed_ligand_pdb\n",
      "Copied 6c65_EKJ_D.pdb to pdbbind_dataset_rna/parsed_ligand_pdb\n",
      "Copied 6c65_EKJ_H.pdb to pdbbind_dataset_rna/parsed_ligand_pdb\n",
      "Copied 6c64_EKM_D.pdb to pdbbind_dataset_rna/parsed_ligand_pdb\n",
      "Copied 6c64_EKM_H.pdb to pdbbind_dataset_rna/parsed_ligand_pdb\n",
      "Copied 6dmc_G4P_C.pdb to pdbbind_dataset_rna/parsed_ligand_pdb\n",
      "Copied 6dmc_G4P_W.pdb to pdbbind_dataset_rna/parsed_ligand_pdb\n",
      "Copied 2n0j_RIO_B.pdb to pdbbind_dataset_rna/parsed_ligand_pdb\n",
      "Copied 2o3w_PAR_C.pdb to pdbbind_dataset_rna/parsed_ligand_pdb\n",
      "Copied 1fyp_PAR_B.pdb to pdbbind_dataset_rna/parsed_ligand_pdb\n",
      "Copied 6dlt_PRP_H.pdb to pdbbind_dataset_rna/parsed_ligand_pdb\n",
      "Copied 4kqy_SAM_B.pdb to pdbbind_dataset_rna/parsed_ligand_pdb\n",
      "Copied 1uts_P13_B.pdb to pdbbind_dataset_rna/parsed_ligand_pdb\n",
      "Copied 3s4p_JS6_C.pdb to pdbbind_dataset_rna/parsed_ligand_pdb\n",
      "Copied 3s4p_JS6_D.pdb to pdbbind_dataset_rna/parsed_ligand_pdb\n",
      "Copied 1qd3_RIB_B.pdb to pdbbind_dataset_rna/parsed_ligand_pdb\n",
      "Copied 6p2h_GNG_B.pdb to pdbbind_dataset_rna/parsed_ligand_pdb\n",
      "Copied 3e5c_SAM_Q.pdb to pdbbind_dataset_rna/parsed_ligand_pdb\n",
      "Copied 4w90_2BA_D.pdb to pdbbind_dataset_rna/parsed_ligand_pdb\n",
      "Copied 4w90_2BA_C.pdb to pdbbind_dataset_rna/parsed_ligand_pdb\n",
      "Copied 4rzd_PRF_B.pdb to pdbbind_dataset_rna/parsed_ligand_pdb\n",
      "Copied 2lwk_0EC_B.pdb to pdbbind_dataset_rna/parsed_ligand_pdb\n",
      "Copied 3g4m_2BP_B.pdb to pdbbind_dataset_rna/parsed_ligand_pdb\n",
      "Copied 5uee_GP3_C.pdb to pdbbind_dataset_rna/parsed_ligand_pdb\n",
      "Copied 5uee_GP3_G.pdb to pdbbind_dataset_rna/parsed_ligand_pdb\n",
      "Copied 5c7w_HPA_J.pdb to pdbbind_dataset_rna/parsed_ligand_pdb\n",
      "Copied 2xnw_ZZR_J.pdb to pdbbind_dataset_rna/parsed_ligand_pdb\n",
      "Copied 2f4s_XXX_C.pdb to pdbbind_dataset_rna/parsed_ligand_pdb\n",
      "Copied 4yaz_4BW_L.pdb to pdbbind_dataset_rna/parsed_ligand_pdb\n",
      "Copied 4yaz_4BW_H.pdb to pdbbind_dataset_rna/parsed_ligand_pdb\n",
      "Copied 2g9c_3AY_O.pdb to pdbbind_dataset_rna/parsed_ligand_pdb\n",
      "Copied 3mxh_C2E_D.pdb to pdbbind_dataset_rna/parsed_ligand_pdb\n",
      "Copied 3fo4_6GU_B.pdb to pdbbind_dataset_rna/parsed_ligand_pdb\n",
      "Copied 2ku0_ISI_B.pdb to pdbbind_dataset_rna/parsed_ligand_pdb\n",
      "Copied 4lvw_7DG_C.pdb to pdbbind_dataset_rna/parsed_ligand_pdb\n",
      "Copied 4lvw_7DG_B.pdb to pdbbind_dataset_rna/parsed_ligand_pdb\n",
      "Copied 3gog_6GU_B.pdb to pdbbind_dataset_rna/parsed_ligand_pdb\n",
      "Copied 3ges_6GO_B.pdb to pdbbind_dataset_rna/parsed_ligand_pdb\n",
      "Copied 1ykv_DAI_J.pdb to pdbbind_dataset_rna/parsed_ligand_pdb\n",
      "Copied 1ykv_DAI_E.pdb to pdbbind_dataset_rna/parsed_ligand_pdb\n",
      "Copied 4jf2_PRF_B.pdb to pdbbind_dataset_rna/parsed_ligand_pdb\n",
      "Copied 4lx5_29G_B.pdb to pdbbind_dataset_rna/parsed_ligand_pdb\n",
      "Copied 2ygh_SAM_B.pdb to pdbbind_dataset_rna/parsed_ligand_pdb\n",
      "Copied 6e84_J0D_C.pdb to pdbbind_dataset_rna/parsed_ligand_pdb\n",
      "Copied 2ydh_SAM_G.pdb to pdbbind_dataset_rna/parsed_ligand_pdb\n",
      "Copied 6e8u_HZD_G.pdb to pdbbind_dataset_rna/parsed_ligand_pdb\n",
      "Copied 2g5k_AM2_F.pdb to pdbbind_dataset_rna/parsed_ligand_pdb\n",
      "Copied 2g5k_AM2_C.pdb to pdbbind_dataset_rna/parsed_ligand_pdb\n",
      "Copied 1arj_ARG_B.pdb to pdbbind_dataset_rna/parsed_ligand_pdb\n",
      "Copied 1uud_P14_B.pdb to pdbbind_dataset_rna/parsed_ligand_pdb\n",
      "Copied 3got_A2F_B.pdb to pdbbind_dataset_rna/parsed_ligand_pdb\n",
      "Copied 1q8n_MGR_B.pdb to pdbbind_dataset_rna/parsed_ligand_pdb\n",
      "Copied 4erj_ACA_B.pdb to pdbbind_dataset_rna/parsed_ligand_pdb\n",
      "Copied 2be0_JS5_C.pdb to pdbbind_dataset_rna/parsed_ligand_pdb\n",
      "Copied 2be0_JS5_D.pdb to pdbbind_dataset_rna/parsed_ligand_pdb\n",
      "Copied 5v3f_74G_F.pdb to pdbbind_dataset_rna/parsed_ligand_pdb\n",
      "Copied 5v3f_74G_J.pdb to pdbbind_dataset_rna/parsed_ligand_pdb\n",
      "Copied 6e8t_HZG_L.pdb to pdbbind_dataset_rna/parsed_ligand_pdb\n",
      "Copied 6e8t_HZG_E.pdb to pdbbind_dataset_rna/parsed_ligand_pdb\n",
      "Copied 6e8t_HZG_J.pdb to pdbbind_dataset_rna/parsed_ligand_pdb\n",
      "Copied 6e8t_HZG_G.pdb to pdbbind_dataset_rna/parsed_ligand_pdb\n",
      "Copied 2xo0_ZZS_K.pdb to pdbbind_dataset_rna/parsed_ligand_pdb\n",
      "Copied 4nyd_HPA_B.pdb to pdbbind_dataset_rna/parsed_ligand_pdb\n",
      "Copied 2o3x_N30_C.pdb to pdbbind_dataset_rna/parsed_ligand_pdb\n",
      "Copied 4oqu_SAM_B.pdb to pdbbind_dataset_rna/parsed_ligand_pdb\n",
      "Copied 1i9v_NMY_B.pdb to pdbbind_dataset_rna/parsed_ligand_pdb\n",
      "Copied 6e81_TFX_B.pdb to pdbbind_dataset_rna/parsed_ligand_pdb\n",
      "Copied 4lx6_29H_B.pdb to pdbbind_dataset_rna/parsed_ligand_pdb\n",
      "Copied 6hbt_FXQ_D.pdb to pdbbind_dataset_rna/parsed_ligand_pdb\n",
      "Copied 3gao_XAN_B.pdb to pdbbind_dataset_rna/parsed_ligand_pdb\n",
      "Copied 4qln_2BA_C.pdb to pdbbind_dataset_rna/parsed_ligand_pdb\n",
      "Copied 4qln_2BA_B.pdb to pdbbind_dataset_rna/parsed_ligand_pdb\n",
      "Copied 4qk9_2BA_C.pdb to pdbbind_dataset_rna/parsed_ligand_pdb\n",
      "Copied 4qk9_2BA_B.pdb to pdbbind_dataset_rna/parsed_ligand_pdb\n",
      "Copied 4lvz_6AP_B.pdb to pdbbind_dataset_rna/parsed_ligand_pdb\n",
      "Copied 6ck4_G4P_Z.pdb to pdbbind_dataset_rna/parsed_ligand_pdb\n",
      "Copied 6ck4_G4P_KA.pdb to pdbbind_dataset_rna/parsed_ligand_pdb\n",
      "Copied 6ck4_G4P_WA.pdb to pdbbind_dataset_rna/parsed_ligand_pdb\n",
      "Copied 6ck4_G4P_R.pdb to pdbbind_dataset_rna/parsed_ligand_pdb\n",
      "Copied 4erl_LYS_B.pdb to pdbbind_dataset_rna/parsed_ligand_pdb\n",
      "Copied 4xwf_AMZ_B.pdb to pdbbind_dataset_rna/parsed_ligand_pdb\n",
      "Copied 1byj_GE1_B.pdb to pdbbind_dataset_rna/parsed_ligand_pdb\n",
      "Copied 4qlm_2BA_E.pdb to pdbbind_dataset_rna/parsed_ligand_pdb\n",
      "Copied 4qlm_2BA_D.pdb to pdbbind_dataset_rna/parsed_ligand_pdb\n",
      "Copied 3npn_SAH_B.pdb to pdbbind_dataset_rna/parsed_ligand_pdb\n",
      "Copied 3fu2_PRF_D.pdb to pdbbind_dataset_rna/parsed_ligand_pdb\n",
      "Copied 3fu2_PRF_M.pdb to pdbbind_dataset_rna/parsed_ligand_pdb\n",
      "Copied 3fu2_PRF_J.pdb to pdbbind_dataset_rna/parsed_ligand_pdb\n",
      "Copied 2kx8_ARG_B.pdb to pdbbind_dataset_rna/parsed_ligand_pdb\n",
      "Copied 6hag_SAH_B.pdb to pdbbind_dataset_rna/parsed_ligand_pdb\n",
      "Copied 4ts0_38E_R.pdb to pdbbind_dataset_rna/parsed_ligand_pdb\n",
      "Copied 2au4_GTP_B.pdb to pdbbind_dataset_rna/parsed_ligand_pdb\n",
      "Copied 4ts2_38E_H.pdb to pdbbind_dataset_rna/parsed_ligand_pdb\n",
      "Copied 2xnz_3AW_I.pdb to pdbbind_dataset_rna/parsed_ligand_pdb\n",
      "Copied 2mxs_PAR_B.pdb to pdbbind_dataset_rna/parsed_ligand_pdb\n",
      "Copied 5c7u_HPA_I.cif to pdbbind_dataset_rna/parsed_ligand\n",
      "Copied 6e8s_EKJ_C.cif to pdbbind_dataset_rna/parsed_ligand\n",
      "Copied 6e8s_EKJ_G.cif to pdbbind_dataset_rna/parsed_ligand\n",
      "Copied 5kpy_4PQ_B.cif to pdbbind_dataset_rna/parsed_ligand\n",
      "Copied 6c63_EKJ_D.cif to pdbbind_dataset_rna/parsed_ligand\n",
      "Copied 6c63_EKJ_K.cif to pdbbind_dataset_rna/parsed_ligand\n",
      "Copied 6c63_EKJ_H.cif to pdbbind_dataset_rna/parsed_ligand\n",
      "Copied 3slm_DGP_L.cif to pdbbind_dataset_rna/parsed_ligand\n",
      "Copied 3slm_DGP_C.cif to pdbbind_dataset_rna/parsed_ligand\n",
      "Copied 4nyg_VIB_B.cif to pdbbind_dataset_rna/parsed_ligand\n",
      "Copied 2b57_6AP_L.cif to pdbbind_dataset_rna/parsed_ligand\n",
      "Copied 4lvv_FFO_C.cif to pdbbind_dataset_rna/parsed_ligand\n",
      "Copied 4lvv_FFO_B.cif to pdbbind_dataset_rna/parsed_ligand\n",
      "Copied 3mur_C2E_C.cif to pdbbind_dataset_rna/parsed_ligand\n",
      "Copied 1f27_BTN_H.cif to pdbbind_dataset_rna/parsed_ligand\n",
      "Copied 2xo1_N6M_B.cif to pdbbind_dataset_rna/parsed_ligand\n",
      "Copied 2kgp_MIX_B.cif to pdbbind_dataset_rna/parsed_ligand\n",
      "Copied 3fo6_6GO_B.cif to pdbbind_dataset_rna/parsed_ligand\n",
      "Copied 3jq4_LC2_C.cif to pdbbind_dataset_rna/parsed_ligand\n",
      "Copied 2ktz_ISH_B.cif to pdbbind_dataset_rna/parsed_ligand\n",
      "Copied 4lvx_H4B_C.cif to pdbbind_dataset_rna/parsed_ligand\n",
      "Copied 4lvx_H4B_B.cif to pdbbind_dataset_rna/parsed_ligand\n",
      "Copied 3mum_C2E_C.cif to pdbbind_dataset_rna/parsed_ligand\n",
      "Copied 4nyb_2QC_B.cif to pdbbind_dataset_rna/parsed_ligand\n",
      "Copied 2f4u_AB6_C.cif to pdbbind_dataset_rna/parsed_ligand\n",
      "Copied 1f1t_ROS_J.cif to pdbbind_dataset_rna/parsed_ligand\n",
      "Copied 2l94_L94_B.cif to pdbbind_dataset_rna/parsed_ligand\n",
      "Copied 4aob_SAM_W.cif to pdbbind_dataset_rna/parsed_ligand\n",
      "Copied 3la5_5AZ_L.cif to pdbbind_dataset_rna/parsed_ligand\n",
      "Copied 2f4t_AB9_C.cif to pdbbind_dataset_rna/parsed_ligand\n",
      "Copied 4lw0_ADE_B.cif to pdbbind_dataset_rna/parsed_ligand\n",
      "Copied 4znp_AMZ_C.cif to pdbbind_dataset_rna/parsed_ligand\n",
      "Copied 4znp_AMZ_F.cif to pdbbind_dataset_rna/parsed_ligand\n",
      "Copied 5btp_AMZ_J.cif to pdbbind_dataset_rna/parsed_ligand\n",
      "Copied 5btp_AMZ_Q.cif to pdbbind_dataset_rna/parsed_ligand\n",
      "Copied 3b31_IRI_D.cif to pdbbind_dataset_rna/parsed_ligand\n",
      "Copied 3b31_IRI_C.cif to pdbbind_dataset_rna/parsed_ligand\n",
      "Copied 3b31_IRI_E.cif to pdbbind_dataset_rna/parsed_ligand\n",
      "Copied 4qk8_2BA_C.cif to pdbbind_dataset_rna/parsed_ligand\n",
      "Copied 4qk8_2BA_B.cif to pdbbind_dataset_rna/parsed_ligand\n",
      "Copied 4nya_2QB_S.cif to pdbbind_dataset_rna/parsed_ligand\n",
      "Copied 4nya_2QB_L.cif to pdbbind_dataset_rna/parsed_ligand\n",
      "Copied 2bee_JS4_C.cif to pdbbind_dataset_rna/parsed_ligand\n",
      "Copied 2bee_JS4_D.cif to pdbbind_dataset_rna/parsed_ligand\n",
      "Copied 3ger_6GU_B.cif to pdbbind_dataset_rna/parsed_ligand\n",
      "Copied 1yrj_AM2_C.cif to pdbbind_dataset_rna/parsed_ligand\n",
      "Copied 1yrj_AM2_E.cif to pdbbind_dataset_rna/parsed_ligand\n",
      "Copied 6hmo_GDZ_C.cif to pdbbind_dataset_rna/parsed_ligand\n",
      "Copied 3owz_GLY_C.cif to pdbbind_dataset_rna/parsed_ligand\n",
      "Copied 3owz_GLY_X.cif to pdbbind_dataset_rna/parsed_ligand\n",
      "Copied 4l81_SAM_B.cif to pdbbind_dataset_rna/parsed_ligand\n",
      "Copied 4fe5_HPA_B.cif to pdbbind_dataset_rna/parsed_ligand\n",
      "Copied 3q50_PRF_B.cif to pdbbind_dataset_rna/parsed_ligand\n",
      "Copied 6qn3_GLN_L.cif to pdbbind_dataset_rna/parsed_ligand\n",
      "Copied 6qn3_GLN_G.cif to pdbbind_dataset_rna/parsed_ligand\n",
      "Copied 4yb0_C2E_K.cif to pdbbind_dataset_rna/parsed_ligand\n",
      "Copied 4yb0_C2E_D.cif to pdbbind_dataset_rna/parsed_ligand\n",
      "Copied 6fz0_SAM_E.cif to pdbbind_dataset_rna/parsed_ligand\n",
      "Copied 5lwj_GTP_B.cif to pdbbind_dataset_rna/parsed_ligand\n",
      "Copied 3q3z_C2E_H.cif to pdbbind_dataset_rna/parsed_ligand\n",
      "Copied 3q3z_C2E_L.cif to pdbbind_dataset_rna/parsed_ligand\n",
      "Copied 3q3z_C2E_Q.cif to pdbbind_dataset_rna/parsed_ligand\n",
      "Copied 3q3z_C2E_C.cif to pdbbind_dataset_rna/parsed_ligand\n",
      "Copied 6ck5_PRP_S.cif to pdbbind_dataset_rna/parsed_ligand\n",
      "Copied 6ck5_PRP_IA.cif to pdbbind_dataset_rna/parsed_ligand\n",
      "Copied 4nyc_SVN_B.cif to pdbbind_dataset_rna/parsed_ligand\n",
      "Copied 3ds7_GNG_I.cif to pdbbind_dataset_rna/parsed_ligand\n",
      "Copied 3ds7_GNG_Q.cif to pdbbind_dataset_rna/parsed_ligand\n",
      "Copied 4lvy_LYA_B.cif to pdbbind_dataset_rna/parsed_ligand\n",
      "Copied 4lvy_LYA_C.cif to pdbbind_dataset_rna/parsed_ligand\n",
      "Copied 6c65_EKJ_L.cif to pdbbind_dataset_rna/parsed_ligand\n",
      "Copied 6c65_EKJ_H.cif to pdbbind_dataset_rna/parsed_ligand\n",
      "Copied 6c65_EKJ_D.cif to pdbbind_dataset_rna/parsed_ligand\n",
      "Copied 6c64_EKM_D.cif to pdbbind_dataset_rna/parsed_ligand\n",
      "Copied 6c64_EKM_H.cif to pdbbind_dataset_rna/parsed_ligand\n",
      "Copied 6dmc_G4P_W.cif to pdbbind_dataset_rna/parsed_ligand\n",
      "Copied 6dmc_G4P_C.cif to pdbbind_dataset_rna/parsed_ligand\n",
      "Copied 2n0j_RIO_B.cif to pdbbind_dataset_rna/parsed_ligand\n",
      "Copied 2o3w_PAR_C.cif to pdbbind_dataset_rna/parsed_ligand\n",
      "Copied 1fyp_PAR_B.cif to pdbbind_dataset_rna/parsed_ligand\n",
      "Copied 6dlt_PRP_H.cif to pdbbind_dataset_rna/parsed_ligand\n",
      "Copied 4kqy_SAM_B.cif to pdbbind_dataset_rna/parsed_ligand\n",
      "Copied 1uts_P13_B.cif to pdbbind_dataset_rna/parsed_ligand\n",
      "Copied 3s4p_JS6_C.cif to pdbbind_dataset_rna/parsed_ligand\n",
      "Copied 3s4p_JS6_D.cif to pdbbind_dataset_rna/parsed_ligand\n",
      "Copied 1qd3_RIB_B.cif to pdbbind_dataset_rna/parsed_ligand\n",
      "Copied 6p2h_GNG_B.cif to pdbbind_dataset_rna/parsed_ligand\n",
      "Copied 3e5c_SAM_Q.cif to pdbbind_dataset_rna/parsed_ligand\n",
      "Copied 4w90_2BA_C.cif to pdbbind_dataset_rna/parsed_ligand\n",
      "Copied 4w90_2BA_D.cif to pdbbind_dataset_rna/parsed_ligand\n",
      "Copied 4rzd_PRF_B.cif to pdbbind_dataset_rna/parsed_ligand\n",
      "Copied 2lwk_0EC_B.cif to pdbbind_dataset_rna/parsed_ligand\n",
      "Copied 3g4m_2BP_B.cif to pdbbind_dataset_rna/parsed_ligand\n",
      "Copied 5uee_GP3_C.cif to pdbbind_dataset_rna/parsed_ligand\n",
      "Copied 5uee_GP3_G.cif to pdbbind_dataset_rna/parsed_ligand\n",
      "Copied 5c7w_HPA_J.cif to pdbbind_dataset_rna/parsed_ligand\n",
      "Copied 2xnw_ZZR_J.cif to pdbbind_dataset_rna/parsed_ligand\n",
      "Copied 2f4s_XXX_C.cif to pdbbind_dataset_rna/parsed_ligand\n",
      "Copied 4yaz_4BW_L.cif to pdbbind_dataset_rna/parsed_ligand\n",
      "Copied 4yaz_4BW_H.cif to pdbbind_dataset_rna/parsed_ligand\n",
      "Copied 2g9c_3AY_O.cif to pdbbind_dataset_rna/parsed_ligand\n",
      "Copied 3mxh_C2E_D.cif to pdbbind_dataset_rna/parsed_ligand\n",
      "Copied 3fo4_6GU_B.cif to pdbbind_dataset_rna/parsed_ligand\n",
      "Copied 2ku0_ISI_B.cif to pdbbind_dataset_rna/parsed_ligand\n",
      "Copied 4lvw_7DG_B.cif to pdbbind_dataset_rna/parsed_ligand\n",
      "Copied 4lvw_7DG_C.cif to pdbbind_dataset_rna/parsed_ligand\n",
      "Copied 3gog_6GU_B.cif to pdbbind_dataset_rna/parsed_ligand\n",
      "Copied 3ges_6GO_B.cif to pdbbind_dataset_rna/parsed_ligand\n",
      "Copied 1ykv_DAI_E.cif to pdbbind_dataset_rna/parsed_ligand\n",
      "Copied 1ykv_DAI_J.cif to pdbbind_dataset_rna/parsed_ligand\n",
      "Copied 4jf2_PRF_B.cif to pdbbind_dataset_rna/parsed_ligand\n",
      "Copied 4lx5_29G_B.cif to pdbbind_dataset_rna/parsed_ligand\n",
      "Copied 2ygh_SAM_B.cif to pdbbind_dataset_rna/parsed_ligand\n",
      "Copied 6e84_J0D_C.cif to pdbbind_dataset_rna/parsed_ligand\n",
      "Copied 2ydh_SAM_G.cif to pdbbind_dataset_rna/parsed_ligand\n",
      "Copied 6e8u_HZD_G.cif to pdbbind_dataset_rna/parsed_ligand\n",
      "Copied 2g5k_AM2_F.cif to pdbbind_dataset_rna/parsed_ligand\n",
      "Copied 2g5k_AM2_C.cif to pdbbind_dataset_rna/parsed_ligand\n",
      "Copied 1arj_ARG_B.cif to pdbbind_dataset_rna/parsed_ligand\n",
      "Copied 1uud_P14_B.cif to pdbbind_dataset_rna/parsed_ligand\n",
      "Copied 3got_A2F_B.cif to pdbbind_dataset_rna/parsed_ligand\n",
      "Copied 1q8n_MGR_B.cif to pdbbind_dataset_rna/parsed_ligand\n",
      "Copied 4erj_ACA_B.cif to pdbbind_dataset_rna/parsed_ligand\n",
      "Copied 2be0_JS5_C.cif to pdbbind_dataset_rna/parsed_ligand\n",
      "Copied 2be0_JS5_D.cif to pdbbind_dataset_rna/parsed_ligand\n",
      "Copied 5v3f_74G_J.cif to pdbbind_dataset_rna/parsed_ligand\n",
      "Copied 5v3f_74G_F.cif to pdbbind_dataset_rna/parsed_ligand\n",
      "Copied 6e8t_HZG_E.cif to pdbbind_dataset_rna/parsed_ligand\n",
      "Copied 6e8t_HZG_L.cif to pdbbind_dataset_rna/parsed_ligand\n",
      "Copied 6e8t_HZG_G.cif to pdbbind_dataset_rna/parsed_ligand\n",
      "Copied 6e8t_HZG_J.cif to pdbbind_dataset_rna/parsed_ligand\n",
      "Copied 2xo0_ZZS_K.cif to pdbbind_dataset_rna/parsed_ligand\n",
      "Copied 4nyd_HPA_B.cif to pdbbind_dataset_rna/parsed_ligand\n",
      "Copied 2o3x_N30_C.cif to pdbbind_dataset_rna/parsed_ligand\n",
      "Copied 4oqu_SAM_B.cif to pdbbind_dataset_rna/parsed_ligand\n",
      "Copied 1i9v_NMY_B.cif to pdbbind_dataset_rna/parsed_ligand\n",
      "Copied 6e81_TFX_B.cif to pdbbind_dataset_rna/parsed_ligand\n",
      "Copied 4lx6_29H_B.cif to pdbbind_dataset_rna/parsed_ligand\n",
      "Copied 6hbt_FXQ_D.cif to pdbbind_dataset_rna/parsed_ligand\n",
      "Copied 3gao_XAN_B.cif to pdbbind_dataset_rna/parsed_ligand\n",
      "Copied 4qln_2BA_C.cif to pdbbind_dataset_rna/parsed_ligand\n",
      "Copied 4qln_2BA_B.cif to pdbbind_dataset_rna/parsed_ligand\n",
      "Copied 4qk9_2BA_C.cif to pdbbind_dataset_rna/parsed_ligand\n",
      "Copied 4qk9_2BA_B.cif to pdbbind_dataset_rna/parsed_ligand\n",
      "Copied 4lvz_6AP_B.cif to pdbbind_dataset_rna/parsed_ligand\n",
      "Copied 6ck4_G4P_Z.cif to pdbbind_dataset_rna/parsed_ligand\n",
      "Copied 6ck4_G4P_KA.cif to pdbbind_dataset_rna/parsed_ligand\n",
      "Copied 6ck4_G4P_WA.cif to pdbbind_dataset_rna/parsed_ligand\n",
      "Copied 6ck4_G4P_R.cif to pdbbind_dataset_rna/parsed_ligand\n",
      "Copied 4erl_LYS_B.cif to pdbbind_dataset_rna/parsed_ligand\n",
      "Copied 4xwf_AMZ_B.cif to pdbbind_dataset_rna/parsed_ligand\n",
      "Copied 1byj_GE1_B.cif to pdbbind_dataset_rna/parsed_ligand\n",
      "Copied 4qlm_2BA_D.cif to pdbbind_dataset_rna/parsed_ligand\n",
      "Copied 4qlm_2BA_E.cif to pdbbind_dataset_rna/parsed_ligand\n",
      "Copied 3npn_SAH_B.cif to pdbbind_dataset_rna/parsed_ligand\n",
      "Copied 3fu2_PRF_D.cif to pdbbind_dataset_rna/parsed_ligand\n",
      "Copied 3fu2_PRF_M.cif to pdbbind_dataset_rna/parsed_ligand\n",
      "Copied 3fu2_PRF_J.cif to pdbbind_dataset_rna/parsed_ligand\n",
      "Copied 2kx8_ARG_B.cif to pdbbind_dataset_rna/parsed_ligand\n",
      "Copied 6hag_SAH_B.cif to pdbbind_dataset_rna/parsed_ligand\n",
      "Copied 4ts0_38E_R.cif to pdbbind_dataset_rna/parsed_ligand\n",
      "Copied 2au4_GTP_B.cif to pdbbind_dataset_rna/parsed_ligand\n",
      "Copied 4ts2_38E_H.cif to pdbbind_dataset_rna/parsed_ligand\n",
      "Copied 2xnz_3AW_I.cif to pdbbind_dataset_rna/parsed_ligand\n",
      "Copied 2mxs_PAR_B.cif to pdbbind_dataset_rna/parsed_ligand\n",
      "Copied 5c7u_rna.cif to pdbbind_dataset_rna/parsed_rna3db_rnas_whole\n",
      "Copied 6e8s_rna.cif to pdbbind_dataset_rna/parsed_rna3db_rnas_whole\n",
      "Copied 5kpy_rna.cif to pdbbind_dataset_rna/parsed_rna3db_rnas_whole\n",
      "Copied 6c63_rna.cif to pdbbind_dataset_rna/parsed_rna3db_rnas_whole\n",
      "Copied 3slm_rna.cif to pdbbind_dataset_rna/parsed_rna3db_rnas_whole\n",
      "Copied 4nyg_rna.cif to pdbbind_dataset_rna/parsed_rna3db_rnas_whole\n",
      "Copied 2b57_rna.cif to pdbbind_dataset_rna/parsed_rna3db_rnas_whole\n",
      "Copied 4lvv_rna.cif to pdbbind_dataset_rna/parsed_rna3db_rnas_whole\n",
      "Copied 3mur_rna.cif to pdbbind_dataset_rna/parsed_rna3db_rnas_whole\n",
      "Copied 1f27_rna.cif to pdbbind_dataset_rna/parsed_rna3db_rnas_whole\n",
      "Copied 2xo1_rna.cif to pdbbind_dataset_rna/parsed_rna3db_rnas_whole\n",
      "Copied 2kgp_rna.cif to pdbbind_dataset_rna/parsed_rna3db_rnas_whole\n",
      "Copied 3fo6_rna.cif to pdbbind_dataset_rna/parsed_rna3db_rnas_whole\n",
      "Copied 3jq4_rna.cif to pdbbind_dataset_rna/parsed_rna3db_rnas_whole\n",
      "Copied 2ktz_rna.cif to pdbbind_dataset_rna/parsed_rna3db_rnas_whole\n",
      "Copied 4lvx_rna.cif to pdbbind_dataset_rna/parsed_rna3db_rnas_whole\n",
      "Copied 3mum_rna.cif to pdbbind_dataset_rna/parsed_rna3db_rnas_whole\n",
      "Copied 4nyb_rna.cif to pdbbind_dataset_rna/parsed_rna3db_rnas_whole\n",
      "Copied 2f4u_rna.cif to pdbbind_dataset_rna/parsed_rna3db_rnas_whole\n",
      "Copied 1f1t_rna.cif to pdbbind_dataset_rna/parsed_rna3db_rnas_whole\n",
      "Copied 2l94_rna.cif to pdbbind_dataset_rna/parsed_rna3db_rnas_whole\n",
      "Copied 4aob_rna.cif to pdbbind_dataset_rna/parsed_rna3db_rnas_whole\n",
      "Copied 3la5_rna.cif to pdbbind_dataset_rna/parsed_rna3db_rnas_whole\n",
      "Copied 2f4t_rna.cif to pdbbind_dataset_rna/parsed_rna3db_rnas_whole\n",
      "Copied 4lw0_rna.cif to pdbbind_dataset_rna/parsed_rna3db_rnas_whole\n",
      "Copied 4znp_rna.cif to pdbbind_dataset_rna/parsed_rna3db_rnas_whole\n",
      "Copied 5btp_rna.cif to pdbbind_dataset_rna/parsed_rna3db_rnas_whole\n",
      "Copied 3b31_rna.cif to pdbbind_dataset_rna/parsed_rna3db_rnas_whole\n",
      "Copied 4qk8_rna.cif to pdbbind_dataset_rna/parsed_rna3db_rnas_whole\n",
      "Copied 4nya_rna.cif to pdbbind_dataset_rna/parsed_rna3db_rnas_whole\n",
      "Copied 2bee_rna.cif to pdbbind_dataset_rna/parsed_rna3db_rnas_whole\n",
      "Copied 3ger_rna.cif to pdbbind_dataset_rna/parsed_rna3db_rnas_whole\n",
      "Copied 1yrj_rna.cif to pdbbind_dataset_rna/parsed_rna3db_rnas_whole\n",
      "Copied 6hmo_rna.cif to pdbbind_dataset_rna/parsed_rna3db_rnas_whole\n",
      "Copied 3owz_rna.cif to pdbbind_dataset_rna/parsed_rna3db_rnas_whole\n",
      "Copied 4l81_rna.cif to pdbbind_dataset_rna/parsed_rna3db_rnas_whole\n",
      "Copied 4fe5_rna.cif to pdbbind_dataset_rna/parsed_rna3db_rnas_whole\n",
      "Copied 3q50_rna.cif to pdbbind_dataset_rna/parsed_rna3db_rnas_whole\n",
      "Copied 6qn3_rna.cif to pdbbind_dataset_rna/parsed_rna3db_rnas_whole\n",
      "Copied 4yb0_rna.cif to pdbbind_dataset_rna/parsed_rna3db_rnas_whole\n",
      "Copied 6fz0_rna.cif to pdbbind_dataset_rna/parsed_rna3db_rnas_whole\n",
      "Copied 5lwj_rna.cif to pdbbind_dataset_rna/parsed_rna3db_rnas_whole\n",
      "Copied 3q3z_rna.cif to pdbbind_dataset_rna/parsed_rna3db_rnas_whole\n",
      "Copied 6ck5_rna.cif to pdbbind_dataset_rna/parsed_rna3db_rnas_whole\n",
      "Copied 4nyc_rna.cif to pdbbind_dataset_rna/parsed_rna3db_rnas_whole\n",
      "Copied 3ds7_rna.cif to pdbbind_dataset_rna/parsed_rna3db_rnas_whole\n",
      "Copied 4lvy_rna.cif to pdbbind_dataset_rna/parsed_rna3db_rnas_whole\n",
      "Copied 6c65_rna.cif to pdbbind_dataset_rna/parsed_rna3db_rnas_whole\n",
      "Copied 6c64_rna.cif to pdbbind_dataset_rna/parsed_rna3db_rnas_whole\n",
      "Copied 6dmc_rna.cif to pdbbind_dataset_rna/parsed_rna3db_rnas_whole\n",
      "Copied 2n0j_rna.cif to pdbbind_dataset_rna/parsed_rna3db_rnas_whole\n",
      "Copied 2o3w_rna.cif to pdbbind_dataset_rna/parsed_rna3db_rnas_whole\n",
      "Copied 1fyp_rna.cif to pdbbind_dataset_rna/parsed_rna3db_rnas_whole\n",
      "Copied 6dlt_rna.cif to pdbbind_dataset_rna/parsed_rna3db_rnas_whole\n",
      "Copied 4kqy_rna.cif to pdbbind_dataset_rna/parsed_rna3db_rnas_whole\n",
      "Copied 1uts_rna.cif to pdbbind_dataset_rna/parsed_rna3db_rnas_whole\n",
      "Copied 3s4p_rna.cif to pdbbind_dataset_rna/parsed_rna3db_rnas_whole\n",
      "Copied 1qd3_rna.cif to pdbbind_dataset_rna/parsed_rna3db_rnas_whole\n",
      "Copied 6p2h_rna.cif to pdbbind_dataset_rna/parsed_rna3db_rnas_whole\n",
      "Copied 3e5c_rna.cif to pdbbind_dataset_rna/parsed_rna3db_rnas_whole\n",
      "Copied 4w90_rna.cif to pdbbind_dataset_rna/parsed_rna3db_rnas_whole\n",
      "Copied 4rzd_rna.cif to pdbbind_dataset_rna/parsed_rna3db_rnas_whole\n",
      "Copied 2lwk_rna.cif to pdbbind_dataset_rna/parsed_rna3db_rnas_whole\n",
      "Copied 3g4m_rna.cif to pdbbind_dataset_rna/parsed_rna3db_rnas_whole\n",
      "Copied 5uee_rna.cif to pdbbind_dataset_rna/parsed_rna3db_rnas_whole\n",
      "Copied 5c7w_rna.cif to pdbbind_dataset_rna/parsed_rna3db_rnas_whole\n",
      "Copied 2xnw_rna.cif to pdbbind_dataset_rna/parsed_rna3db_rnas_whole\n",
      "Copied 2f4s_rna.cif to pdbbind_dataset_rna/parsed_rna3db_rnas_whole\n",
      "Copied 4yaz_rna.cif to pdbbind_dataset_rna/parsed_rna3db_rnas_whole\n",
      "Copied 2g9c_rna.cif to pdbbind_dataset_rna/parsed_rna3db_rnas_whole\n",
      "Copied 3mxh_rna.cif to pdbbind_dataset_rna/parsed_rna3db_rnas_whole\n",
      "Copied 3fo4_rna.cif to pdbbind_dataset_rna/parsed_rna3db_rnas_whole\n",
      "Copied 2ku0_rna.cif to pdbbind_dataset_rna/parsed_rna3db_rnas_whole\n",
      "Copied 4lvw_rna.cif to pdbbind_dataset_rna/parsed_rna3db_rnas_whole\n",
      "Copied 3gog_rna.cif to pdbbind_dataset_rna/parsed_rna3db_rnas_whole\n",
      "Copied 3ges_rna.cif to pdbbind_dataset_rna/parsed_rna3db_rnas_whole\n",
      "Copied 1ykv_rna.cif to pdbbind_dataset_rna/parsed_rna3db_rnas_whole\n",
      "Copied 4jf2_rna.cif to pdbbind_dataset_rna/parsed_rna3db_rnas_whole\n",
      "Copied 4lx5_rna.cif to pdbbind_dataset_rna/parsed_rna3db_rnas_whole\n",
      "Copied 2ygh_rna.cif to pdbbind_dataset_rna/parsed_rna3db_rnas_whole\n",
      "Copied 6e84_rna.cif to pdbbind_dataset_rna/parsed_rna3db_rnas_whole\n",
      "Copied 2ydh_rna.cif to pdbbind_dataset_rna/parsed_rna3db_rnas_whole\n",
      "Copied 6e8u_rna.cif to pdbbind_dataset_rna/parsed_rna3db_rnas_whole\n",
      "Copied 2g5k_rna.cif to pdbbind_dataset_rna/parsed_rna3db_rnas_whole\n",
      "Copied 1arj_rna.cif to pdbbind_dataset_rna/parsed_rna3db_rnas_whole\n",
      "Copied 1uud_rna.cif to pdbbind_dataset_rna/parsed_rna3db_rnas_whole\n",
      "Copied 3got_rna.cif to pdbbind_dataset_rna/parsed_rna3db_rnas_whole\n",
      "Copied 1q8n_rna.cif to pdbbind_dataset_rna/parsed_rna3db_rnas_whole\n",
      "Copied 4erj_rna.cif to pdbbind_dataset_rna/parsed_rna3db_rnas_whole\n",
      "Copied 2be0_rna.cif to pdbbind_dataset_rna/parsed_rna3db_rnas_whole\n",
      "Copied 5v3f_rna.cif to pdbbind_dataset_rna/parsed_rna3db_rnas_whole\n",
      "Copied 6e8t_rna.cif to pdbbind_dataset_rna/parsed_rna3db_rnas_whole\n",
      "Copied 2xo0_rna.cif to pdbbind_dataset_rna/parsed_rna3db_rnas_whole\n",
      "Copied 4nyd_rna.cif to pdbbind_dataset_rna/parsed_rna3db_rnas_whole\n",
      "Copied 2o3x_rna.cif to pdbbind_dataset_rna/parsed_rna3db_rnas_whole\n",
      "Copied 4oqu_rna.cif to pdbbind_dataset_rna/parsed_rna3db_rnas_whole\n",
      "Copied 1i9v_rna.cif to pdbbind_dataset_rna/parsed_rna3db_rnas_whole\n",
      "Copied 6e81_rna.cif to pdbbind_dataset_rna/parsed_rna3db_rnas_whole\n",
      "Copied 4lx6_rna.cif to pdbbind_dataset_rna/parsed_rna3db_rnas_whole\n",
      "Copied 6hbt_rna.cif to pdbbind_dataset_rna/parsed_rna3db_rnas_whole\n",
      "Copied 3gao_rna.cif to pdbbind_dataset_rna/parsed_rna3db_rnas_whole\n",
      "Copied 4qln_rna.cif to pdbbind_dataset_rna/parsed_rna3db_rnas_whole\n",
      "Copied 4qk9_rna.cif to pdbbind_dataset_rna/parsed_rna3db_rnas_whole\n",
      "Copied 4lvz_rna.cif to pdbbind_dataset_rna/parsed_rna3db_rnas_whole\n",
      "Copied 6ck4_rna.cif to pdbbind_dataset_rna/parsed_rna3db_rnas_whole\n",
      "Copied 4erl_rna.cif to pdbbind_dataset_rna/parsed_rna3db_rnas_whole\n",
      "Copied 4xwf_rna.cif to pdbbind_dataset_rna/parsed_rna3db_rnas_whole\n",
      "Copied 1byj_rna.cif to pdbbind_dataset_rna/parsed_rna3db_rnas_whole\n",
      "Copied 4qlm_rna.cif to pdbbind_dataset_rna/parsed_rna3db_rnas_whole\n",
      "Copied 3npn_rna.cif to pdbbind_dataset_rna/parsed_rna3db_rnas_whole\n",
      "Copied 3fu2_rna.cif to pdbbind_dataset_rna/parsed_rna3db_rnas_whole\n",
      "Copied 2kx8_rna.cif to pdbbind_dataset_rna/parsed_rna3db_rnas_whole\n",
      "Copied 6hag_rna.cif to pdbbind_dataset_rna/parsed_rna3db_rnas_whole\n",
      "Copied 4ts0_rna.cif to pdbbind_dataset_rna/parsed_rna3db_rnas_whole\n",
      "Copied 2au4_rna.cif to pdbbind_dataset_rna/parsed_rna3db_rnas_whole\n",
      "Copied 4ts2_rna.cif to pdbbind_dataset_rna/parsed_rna3db_rnas_whole\n",
      "Copied 2xnz_rna.cif to pdbbind_dataset_rna/parsed_rna3db_rnas_whole\n",
      "Copied 2mxs_rna.cif to pdbbind_dataset_rna/parsed_rna3db_rnas_whole\n"
     ]
    }
   ],
   "source": [
    "main()"
   ]
  },
  {
   "cell_type": "code",
   "execution_count": 32,
   "metadata": {},
   "outputs": [
    {
     "name": "stderr",
     "output_type": "stream",
     "text": [
      "1 molecule converted\n",
      "1 molecule converted\n"
     ]
    },
    {
     "name": "stdout",
     "output_type": "stream",
     "text": [
      "Converted pdbbind_dataset_rna/parsed_ligand_pdb/5btp_AMZ_Q.pdb to pdbbind_dataset_rna/parsed_ligand_mol2_/5btp_AMZ_Q.mol2\n",
      "Converted pdbbind_dataset_rna/parsed_ligand_pdb/4erj_ACA_B.pdb to pdbbind_dataset_rna/parsed_ligand_mol2_/4erj_ACA_B.mol2\n"
     ]
    },
    {
     "name": "stderr",
     "output_type": "stream",
     "text": [
      "==============================\n",
      "*** Open Babel Warning  in PerceiveBondOrders\n",
      "  Failed to kekulize aromatic bonds in OBMol::PerceiveBondOrders (title is pdbbind_dataset_rna/parsed_ligand_pdb/5v3f_74G_F.pdb)\n",
      "\n",
      "1 molecule converted\n",
      "==============================\n",
      "*** Open Babel Warning  in PerceiveBondOrders\n",
      "  Failed to kekulize aromatic bonds in OBMol::PerceiveBondOrders (title is pdbbind_dataset_rna/parsed_ligand_pdb/6e8s_EKJ_G.pdb)\n",
      "\n",
      "1 molecule converted\n"
     ]
    },
    {
     "name": "stdout",
     "output_type": "stream",
     "text": [
      "Converted pdbbind_dataset_rna/parsed_ligand_pdb/5v3f_74G_F.pdb to pdbbind_dataset_rna/parsed_ligand_mol2_/5v3f_74G_F.mol2\n",
      "Converted pdbbind_dataset_rna/parsed_ligand_pdb/6e8s_EKJ_G.pdb to pdbbind_dataset_rna/parsed_ligand_mol2_/6e8s_EKJ_G.mol2\n"
     ]
    },
    {
     "name": "stderr",
     "output_type": "stream",
     "text": [
      "1 molecule converted\n",
      "1 molecule converted\n"
     ]
    },
    {
     "name": "stdout",
     "output_type": "stream",
     "text": [
      "Converted pdbbind_dataset_rna/parsed_ligand_pdb/6p2h_GNG_B.pdb to pdbbind_dataset_rna/parsed_ligand_mol2_/6p2h_GNG_B.mol2\n",
      "Converted pdbbind_dataset_rna/parsed_ligand_pdb/3fo4_6GU_B.pdb to pdbbind_dataset_rna/parsed_ligand_mol2_/3fo4_6GU_B.mol2\n"
     ]
    },
    {
     "name": "stderr",
     "output_type": "stream",
     "text": [
      "==============================\n",
      "*** Open Babel Warning  in PerceiveBondOrders\n",
      "  Failed to kekulize aromatic bonds in OBMol::PerceiveBondOrders (title is pdbbind_dataset_rna/parsed_ligand_pdb/6c65_EKJ_L.pdb)\n",
      "\n",
      "1 molecule converted\n",
      "1 molecule converted\n"
     ]
    },
    {
     "name": "stdout",
     "output_type": "stream",
     "text": [
      "Converted pdbbind_dataset_rna/parsed_ligand_pdb/6c65_EKJ_L.pdb to pdbbind_dataset_rna/parsed_ligand_mol2_/6c65_EKJ_L.mol2\n",
      "Converted pdbbind_dataset_rna/parsed_ligand_pdb/4kqy_SAM_B.pdb to pdbbind_dataset_rna/parsed_ligand_mol2_/4kqy_SAM_B.mol2\n"
     ]
    },
    {
     "name": "stderr",
     "output_type": "stream",
     "text": [
      "1 molecule converted\n",
      "==============================\n",
      "*** Open Babel Warning  in PerceiveBondOrders\n",
      "  Failed to kekulize aromatic bonds in OBMol::PerceiveBondOrders (title is pdbbind_dataset_rna/parsed_ligand_pdb/6c63_EKJ_H.pdb)\n",
      "\n",
      "1 molecule converted\n"
     ]
    },
    {
     "name": "stdout",
     "output_type": "stream",
     "text": [
      "Converted pdbbind_dataset_rna/parsed_ligand_pdb/4lvx_H4B_C.pdb to pdbbind_dataset_rna/parsed_ligand_mol2_/4lvx_H4B_C.mol2\n",
      "Converted pdbbind_dataset_rna/parsed_ligand_pdb/6c63_EKJ_H.pdb to pdbbind_dataset_rna/parsed_ligand_mol2_/6c63_EKJ_H.mol2\n"
     ]
    },
    {
     "name": "stderr",
     "output_type": "stream",
     "text": [
      "1 molecule converted\n",
      "1 molecule converted\n"
     ]
    },
    {
     "name": "stdout",
     "output_type": "stream",
     "text": [
      "Converted pdbbind_dataset_rna/parsed_ligand_pdb/3q50_PRF_B.pdb to pdbbind_dataset_rna/parsed_ligand_mol2_/3q50_PRF_B.mol2\n",
      "Converted pdbbind_dataset_rna/parsed_ligand_pdb/6dmc_G4P_C.pdb to pdbbind_dataset_rna/parsed_ligand_mol2_/6dmc_G4P_C.mol2\n"
     ]
    },
    {
     "name": "stderr",
     "output_type": "stream",
     "text": [
      "1 molecule converted\n",
      "1 molecule converted\n"
     ]
    },
    {
     "name": "stdout",
     "output_type": "stream",
     "text": [
      "Converted pdbbind_dataset_rna/parsed_ligand_pdb/2xo1_N6M_B.pdb to pdbbind_dataset_rna/parsed_ligand_mol2_/2xo1_N6M_B.mol2\n",
      "Converted pdbbind_dataset_rna/parsed_ligand_pdb/6qn3_GLN_G.pdb to pdbbind_dataset_rna/parsed_ligand_mol2_/6qn3_GLN_G.mol2\n"
     ]
    },
    {
     "name": "stderr",
     "output_type": "stream",
     "text": [
      "1 molecule converted\n"
     ]
    },
    {
     "name": "stdout",
     "output_type": "stream",
     "text": [
      "Converted pdbbind_dataset_rna/parsed_ligand_pdb/3b31_IRI_C.pdb to pdbbind_dataset_rna/parsed_ligand_mol2_/3b31_IRI_C.mol2\n"
     ]
    },
    {
     "name": "stderr",
     "output_type": "stream",
     "text": [
      "1 molecule converted\n",
      "1 molecule converted\n"
     ]
    },
    {
     "name": "stdout",
     "output_type": "stream",
     "text": [
      "Converted pdbbind_dataset_rna/parsed_ligand_pdb/1f27_BTN_H.pdb to pdbbind_dataset_rna/parsed_ligand_mol2_/1f27_BTN_H.mol2\n",
      "Converted pdbbind_dataset_rna/parsed_ligand_pdb/3ds7_GNG_I.pdb to pdbbind_dataset_rna/parsed_ligand_mol2_/3ds7_GNG_I.mol2\n"
     ]
    },
    {
     "name": "stderr",
     "output_type": "stream",
     "text": [
      "==============================\n",
      "*** Open Babel Warning  in PerceiveBondOrders\n",
      "  Failed to kekulize aromatic bonds in OBMol::PerceiveBondOrders (title is pdbbind_dataset_rna/parsed_ligand_pdb/1f1t_ROS_J.pdb)\n",
      "\n",
      "1 molecule converted\n",
      "1 molecule converted\n"
     ]
    },
    {
     "name": "stdout",
     "output_type": "stream",
     "text": [
      "Converted pdbbind_dataset_rna/parsed_ligand_pdb/1f1t_ROS_J.pdb to pdbbind_dataset_rna/parsed_ligand_mol2_/1f1t_ROS_J.mol2\n",
      "Converted pdbbind_dataset_rna/parsed_ligand_pdb/3ds7_GNG_Q.pdb to pdbbind_dataset_rna/parsed_ligand_mol2_/3ds7_GNG_Q.mol2\n"
     ]
    },
    {
     "name": "stderr",
     "output_type": "stream",
     "text": [
      "1 molecule converted\n",
      "1 molecule converted\n"
     ]
    },
    {
     "name": "stdout",
     "output_type": "stream",
     "text": [
      "Converted pdbbind_dataset_rna/parsed_ligand_pdb/2bee_JS4_C.pdb to pdbbind_dataset_rna/parsed_ligand_mol2_/2bee_JS4_C.mol2\n",
      "Converted pdbbind_dataset_rna/parsed_ligand_pdb/4lw0_ADE_B.pdb to pdbbind_dataset_rna/parsed_ligand_mol2_/4lw0_ADE_B.mol2\n"
     ]
    },
    {
     "name": "stderr",
     "output_type": "stream",
     "text": [
      "1 molecule converted\n",
      "1 molecule converted\n"
     ]
    },
    {
     "name": "stdout",
     "output_type": "stream",
     "text": [
      "Converted pdbbind_dataset_rna/parsed_ligand_pdb/3mxh_C2E_D.pdb to pdbbind_dataset_rna/parsed_ligand_mol2_/3mxh_C2E_D.mol2\n",
      "Converted pdbbind_dataset_rna/parsed_ligand_pdb/4fe5_HPA_B.pdb to pdbbind_dataset_rna/parsed_ligand_mol2_/4fe5_HPA_B.mol2\n"
     ]
    },
    {
     "name": "stderr",
     "output_type": "stream",
     "text": [
      "1 molecule converted\n",
      "1 molecule converted\n"
     ]
    },
    {
     "name": "stdout",
     "output_type": "stream",
     "text": [
      "Converted pdbbind_dataset_rna/parsed_ligand_pdb/1uud_P14_B.pdb to pdbbind_dataset_rna/parsed_ligand_mol2_/1uud_P14_B.mol2\n",
      "Converted pdbbind_dataset_rna/parsed_ligand_pdb/4nya_2QB_S.pdb to pdbbind_dataset_rna/parsed_ligand_mol2_/4nya_2QB_S.mol2\n"
     ]
    },
    {
     "name": "stderr",
     "output_type": "stream",
     "text": [
      "1 molecule converted\n",
      "1 molecule converted\n"
     ]
    },
    {
     "name": "stdout",
     "output_type": "stream",
     "text": [
      "Converted pdbbind_dataset_rna/parsed_ligand_pdb/2g5k_AM2_F.pdb to pdbbind_dataset_rna/parsed_ligand_mol2_/2g5k_AM2_F.mol2\n",
      "Converted pdbbind_dataset_rna/parsed_ligand_pdb/3b31_IRI_E.pdb to pdbbind_dataset_rna/parsed_ligand_mol2_/3b31_IRI_E.mol2\n"
     ]
    },
    {
     "name": "stderr",
     "output_type": "stream",
     "text": [
      "1 molecule converted\n",
      "1 molecule converted\n"
     ]
    },
    {
     "name": "stdout",
     "output_type": "stream",
     "text": [
      "Converted pdbbind_dataset_rna/parsed_ligand_pdb/4xwf_AMZ_B.pdb to pdbbind_dataset_rna/parsed_ligand_mol2_/4xwf_AMZ_B.mol2\n",
      "Converted pdbbind_dataset_rna/parsed_ligand_pdb/3ges_6GO_B.pdb to pdbbind_dataset_rna/parsed_ligand_mol2_/3ges_6GO_B.mol2\n"
     ]
    },
    {
     "name": "stderr",
     "output_type": "stream",
     "text": [
      "1 molecule converted\n",
      "1 molecule converted\n"
     ]
    },
    {
     "name": "stdout",
     "output_type": "stream",
     "text": [
      "Converted pdbbind_dataset_rna/parsed_ligand_pdb/5uee_GP3_C.pdb to pdbbind_dataset_rna/parsed_ligand_mol2_/5uee_GP3_C.mol2\n",
      "Converted pdbbind_dataset_rna/parsed_ligand_pdb/3fu2_PRF_D.pdb to pdbbind_dataset_rna/parsed_ligand_mol2_/3fu2_PRF_D.mol2\n"
     ]
    },
    {
     "name": "stderr",
     "output_type": "stream",
     "text": [
      "1 molecule converted\n",
      "1 molecule converted\n"
     ]
    },
    {
     "name": "stdout",
     "output_type": "stream",
     "text": [
      "Converted pdbbind_dataset_rna/parsed_ligand_pdb/3s4p_JS6_C.pdb to pdbbind_dataset_rna/parsed_ligand_mol2_/3s4p_JS6_C.mol2\n",
      "Converted pdbbind_dataset_rna/parsed_ligand_pdb/3gog_6GU_B.pdb to pdbbind_dataset_rna/parsed_ligand_mol2_/3gog_6GU_B.mol2\n"
     ]
    },
    {
     "name": "stderr",
     "output_type": "stream",
     "text": [
      "1 molecule converted\n",
      "1 molecule converted\n"
     ]
    },
    {
     "name": "stdout",
     "output_type": "stream",
     "text": [
      "Converted pdbbind_dataset_rna/parsed_ligand_pdb/5uee_GP3_G.pdb to pdbbind_dataset_rna/parsed_ligand_mol2_/5uee_GP3_G.mol2\n",
      "Converted pdbbind_dataset_rna/parsed_ligand_pdb/4erl_LYS_B.pdb to pdbbind_dataset_rna/parsed_ligand_mol2_/4erl_LYS_B.mol2\n"
     ]
    },
    {
     "name": "stderr",
     "output_type": "stream",
     "text": [
      "==============================\n",
      "*** Open Babel Warning  in PerceiveBondOrders\n",
      "  Failed to kekulize aromatic bonds in OBMol::PerceiveBondOrders (title is pdbbind_dataset_rna/parsed_ligand_pdb/6c63_EKJ_K.pdb)\n",
      "\n",
      "1 molecule converted\n",
      "1 molecule converted\n"
     ]
    },
    {
     "name": "stdout",
     "output_type": "stream",
     "text": [
      "Converted pdbbind_dataset_rna/parsed_ligand_pdb/6c63_EKJ_K.pdb to pdbbind_dataset_rna/parsed_ligand_mol2_/6c63_EKJ_K.mol2\n",
      "Converted pdbbind_dataset_rna/parsed_ligand_pdb/4qk8_2BA_B.pdb to pdbbind_dataset_rna/parsed_ligand_mol2_/4qk8_2BA_B.mol2\n"
     ]
    },
    {
     "name": "stderr",
     "output_type": "stream",
     "text": [
      "1 molecule converted\n",
      "1 molecule converted\n"
     ]
    },
    {
     "name": "stdout",
     "output_type": "stream",
     "text": [
      "Converted pdbbind_dataset_rna/parsed_ligand_pdb/3slm_DGP_L.pdb to pdbbind_dataset_rna/parsed_ligand_mol2_/3slm_DGP_L.mol2\n",
      "Converted pdbbind_dataset_rna/parsed_ligand_pdb/2lwk_0EC_B.pdb to pdbbind_dataset_rna/parsed_ligand_mol2_/2lwk_0EC_B.mol2\n"
     ]
    },
    {
     "name": "stderr",
     "output_type": "stream",
     "text": [
      "1 molecule converted\n",
      "1 molecule converted\n"
     ]
    },
    {
     "name": "stdout",
     "output_type": "stream",
     "text": [
      "Converted pdbbind_dataset_rna/parsed_ligand_pdb/3slm_DGP_C.pdb to pdbbind_dataset_rna/parsed_ligand_mol2_/3slm_DGP_C.mol2\n",
      "Converted pdbbind_dataset_rna/parsed_ligand_pdb/3owz_GLY_C.pdb to pdbbind_dataset_rna/parsed_ligand_mol2_/3owz_GLY_C.mol2\n"
     ]
    },
    {
     "name": "stderr",
     "output_type": "stream",
     "text": [
      "1 molecule converted\n",
      "==============================\n",
      "*** Open Babel Warning  in PerceiveBondOrders\n",
      "  Failed to kekulize aromatic bonds in OBMol::PerceiveBondOrders (title is pdbbind_dataset_rna/parsed_ligand_pdb/6c65_EKJ_D.pdb)\n",
      "\n",
      "1 molecule converted\n"
     ]
    },
    {
     "name": "stdout",
     "output_type": "stream",
     "text": [
      "Converted pdbbind_dataset_rna/parsed_ligand_pdb/4qk8_2BA_C.pdb to pdbbind_dataset_rna/parsed_ligand_mol2_/4qk8_2BA_C.mol2\n",
      "Converted pdbbind_dataset_rna/parsed_ligand_pdb/6c65_EKJ_D.pdb to pdbbind_dataset_rna/parsed_ligand_mol2_/6c65_EKJ_D.mol2\n"
     ]
    },
    {
     "name": "stderr",
     "output_type": "stream",
     "text": [
      "1 molecule converted\n",
      "==============================\n",
      "*** Open Babel Warning  in PerceiveBondOrders\n",
      "  Failed to kekulize aromatic bonds in OBMol::PerceiveBondOrders (title is pdbbind_dataset_rna/parsed_ligand_pdb/6c65_EKJ_H.pdb)\n",
      "\n",
      "1 molecule converted\n"
     ]
    },
    {
     "name": "stdout",
     "output_type": "stream",
     "text": [
      "Converted pdbbind_dataset_rna/parsed_ligand_pdb/3got_A2F_B.pdb to pdbbind_dataset_rna/parsed_ligand_mol2_/3got_A2F_B.mol2\n",
      "Converted pdbbind_dataset_rna/parsed_ligand_pdb/6c65_EKJ_H.pdb to pdbbind_dataset_rna/parsed_ligand_mol2_/6c65_EKJ_H.mol2\n"
     ]
    },
    {
     "name": "stderr",
     "output_type": "stream",
     "text": [
      "==============================\n",
      "*** Open Babel Warning  in PerceiveBondOrders\n",
      "  Failed to kekulize aromatic bonds in OBMol::PerceiveBondOrders (title is pdbbind_dataset_rna/parsed_ligand_pdb/6hmo_GDZ_C.pdb)\n",
      "\n",
      "1 molecule converted\n",
      "==============================\n",
      "*** Open Babel Warning  in PerceiveBondOrders\n",
      "  Failed to kekulize aromatic bonds in OBMol::PerceiveBondOrders (title is pdbbind_dataset_rna/parsed_ligand_pdb/6c63_EKJ_D.pdb)\n",
      "\n",
      "1 molecule converted\n"
     ]
    },
    {
     "name": "stdout",
     "output_type": "stream",
     "text": [
      "Converted pdbbind_dataset_rna/parsed_ligand_pdb/6hmo_GDZ_C.pdb to pdbbind_dataset_rna/parsed_ligand_mol2_/6hmo_GDZ_C.mol2\n",
      "Converted pdbbind_dataset_rna/parsed_ligand_pdb/6c63_EKJ_D.pdb to pdbbind_dataset_rna/parsed_ligand_mol2_/6c63_EKJ_D.mol2\n"
     ]
    },
    {
     "name": "stderr",
     "output_type": "stream",
     "text": [
      "1 molecule converted\n",
      "1 molecule converted\n"
     ]
    },
    {
     "name": "stdout",
     "output_type": "stream",
     "text": [
      "Converted pdbbind_dataset_rna/parsed_ligand_pdb/6ck5_PRP_IA.pdb to pdbbind_dataset_rna/parsed_ligand_mol2_/6ck5_PRP_IA.mol2\n",
      "Converted pdbbind_dataset_rna/parsed_ligand_pdb/3q3z_C2E_H.pdb to pdbbind_dataset_rna/parsed_ligand_mol2_/3q3z_C2E_H.mol2\n"
     ]
    },
    {
     "name": "stderr",
     "output_type": "stream",
     "text": [
      "1 molecule converted\n",
      "1 molecule converted\n"
     ]
    },
    {
     "name": "stdout",
     "output_type": "stream",
     "text": [
      "Converted pdbbind_dataset_rna/parsed_ligand_pdb/6ck4_G4P_Z.pdb to pdbbind_dataset_rna/parsed_ligand_mol2_/6ck4_G4P_Z.mol2\n",
      "Converted pdbbind_dataset_rna/parsed_ligand_pdb/2xnw_ZZR_J.pdb to pdbbind_dataset_rna/parsed_ligand_mol2_/2xnw_ZZR_J.mol2\n"
     ]
    },
    {
     "name": "stderr",
     "output_type": "stream",
     "text": [
      "1 molecule converted\n",
      "==============================\n",
      "*** Open Babel Warning  in PerceiveBondOrders\n",
      "  Failed to kekulize aromatic bonds in OBMol::PerceiveBondOrders (title is pdbbind_dataset_rna/parsed_ligand_pdb/6e8t_HZG_L.pdb)\n",
      "\n",
      "1 molecule converted\n"
     ]
    },
    {
     "name": "stdout",
     "output_type": "stream",
     "text": [
      "Converted pdbbind_dataset_rna/parsed_ligand_pdb/2f4s_XXX_C.pdb to pdbbind_dataset_rna/parsed_ligand_mol2_/2f4s_XXX_C.mol2\n",
      "Converted pdbbind_dataset_rna/parsed_ligand_pdb/6e8t_HZG_L.pdb to pdbbind_dataset_rna/parsed_ligand_mol2_/6e8t_HZG_L.mol2\n"
     ]
    },
    {
     "name": "stderr",
     "output_type": "stream",
     "text": [
      "1 molecule converted\n",
      "1 molecule converted\n"
     ]
    },
    {
     "name": "stdout",
     "output_type": "stream",
     "text": [
      "Converted pdbbind_dataset_rna/parsed_ligand_pdb/4qlm_2BA_E.pdb to pdbbind_dataset_rna/parsed_ligand_mol2_/4qlm_2BA_E.mol2\n",
      "Converted pdbbind_dataset_rna/parsed_ligand_pdb/2o3x_N30_C.pdb to pdbbind_dataset_rna/parsed_ligand_mol2_/2o3x_N30_C.mol2\n"
     ]
    },
    {
     "name": "stderr",
     "output_type": "stream",
     "text": [
      "1 molecule converted\n"
     ]
    },
    {
     "name": "stdout",
     "output_type": "stream",
     "text": [
      "Converted pdbbind_dataset_rna/parsed_ligand_pdb/6ck4_G4P_KA.pdb to pdbbind_dataset_rna/parsed_ligand_mol2_/6ck4_G4P_KA.mol2\n"
     ]
    },
    {
     "name": "stderr",
     "output_type": "stream",
     "text": [
      "==============================\n",
      "*** Open Babel Warning  in PerceiveBondOrders\n",
      "  Failed to kekulize aromatic bonds in OBMol::PerceiveBondOrders (title is pdbbind_dataset_rna/parsed_ligand_pdb/6e8t_HZG_E.pdb)\n",
      "\n",
      "1 molecule converted\n"
     ]
    },
    {
     "name": "stdout",
     "output_type": "stream",
     "text": [
      "Converted pdbbind_dataset_rna/parsed_ligand_pdb/6e8t_HZG_E.pdb to pdbbind_dataset_rna/parsed_ligand_mol2_/6e8t_HZG_E.mol2\n",
      "Converted pdbbind_dataset_rna/parsed_ligand_pdb/6fz0_SAM_E.pdb to pdbbind_dataset_rna/parsed_ligand_mol2_/6fz0_SAM_E.mol2\n"
     ]
    },
    {
     "name": "stderr",
     "output_type": "stream",
     "text": [
      "1 molecule converted\n",
      "1 molecule converted\n"
     ]
    },
    {
     "name": "stdout",
     "output_type": "stream",
     "text": [
      "Converted pdbbind_dataset_rna/parsed_ligand_pdb/1byj_GE1_B.pdb to pdbbind_dataset_rna/parsed_ligand_mol2_/1byj_GE1_B.mol2\n"
     ]
    },
    {
     "name": "stderr",
     "output_type": "stream",
     "text": [
      "1 molecule converted\n"
     ]
    },
    {
     "name": "stdout",
     "output_type": "stream",
     "text": [
      "Converted pdbbind_dataset_rna/parsed_ligand_pdb/4lvz_6AP_B.pdb to pdbbind_dataset_rna/parsed_ligand_mol2_/4lvz_6AP_B.mol2\n",
      "Converted pdbbind_dataset_rna/parsed_ligand_pdb/4yb0_C2E_K.pdb to pdbbind_dataset_rna/parsed_ligand_mol2_/4yb0_C2E_K.mol2\n"
     ]
    },
    {
     "name": "stderr",
     "output_type": "stream",
     "text": [
      "1 molecule converted\n",
      "1 molecule converted\n"
     ]
    },
    {
     "name": "stdout",
     "output_type": "stream",
     "text": [
      "Converted pdbbind_dataset_rna/parsed_ligand_pdb/2l94_L94_B.pdb to pdbbind_dataset_rna/parsed_ligand_mol2_/2l94_L94_B.mol2\n",
      "Converted pdbbind_dataset_rna/parsed_ligand_pdb/3ger_6GU_B.pdb to pdbbind_dataset_rna/parsed_ligand_mol2_/3ger_6GU_B.mol2\n"
     ]
    },
    {
     "name": "stderr",
     "output_type": "stream",
     "text": [
      "1 molecule converted\n",
      "1 molecule converted\n"
     ]
    },
    {
     "name": "stdout",
     "output_type": "stream",
     "text": [
      "Converted pdbbind_dataset_rna/parsed_ligand_pdb/4qlm_2BA_D.pdb to pdbbind_dataset_rna/parsed_ligand_mol2_/4qlm_2BA_D.mol2\n",
      "Converted pdbbind_dataset_rna/parsed_ligand_pdb/4lvv_FFO_C.pdb to pdbbind_dataset_rna/parsed_ligand_mol2_/4lvv_FFO_C.mol2\n"
     ]
    },
    {
     "name": "stderr",
     "output_type": "stream",
     "text": [
      "1 molecule converted\n",
      "1 molecule converted\n"
     ]
    },
    {
     "name": "stdout",
     "output_type": "stream",
     "text": [
      "Converted pdbbind_dataset_rna/parsed_ligand_pdb/4yb0_C2E_D.pdb to pdbbind_dataset_rna/parsed_ligand_mol2_/4yb0_C2E_D.mol2\n",
      "Converted pdbbind_dataset_rna/parsed_ligand_pdb/3owz_GLY_X.pdb to pdbbind_dataset_rna/parsed_ligand_mol2_/3owz_GLY_X.mol2\n"
     ]
    },
    {
     "name": "stderr",
     "output_type": "stream",
     "text": [
      "1 molecule converted\n",
      "1 molecule converted\n"
     ]
    },
    {
     "name": "stdout",
     "output_type": "stream",
     "text": [
      "Converted pdbbind_dataset_rna/parsed_ligand_pdb/2be0_JS5_C.pdb to pdbbind_dataset_rna/parsed_ligand_mol2_/2be0_JS5_C.mol2\n",
      "Converted pdbbind_dataset_rna/parsed_ligand_pdb/6ck4_G4P_WA.pdb to pdbbind_dataset_rna/parsed_ligand_mol2_/6ck4_G4P_WA.mol2\n"
     ]
    },
    {
     "name": "stderr",
     "output_type": "stream",
     "text": [
      "1 molecule converted\n",
      "1 molecule converted\n"
     ]
    },
    {
     "name": "stdout",
     "output_type": "stream",
     "text": [
      "Converted pdbbind_dataset_rna/parsed_ligand_pdb/4ts0_38E_R.pdb to pdbbind_dataset_rna/parsed_ligand_mol2_/4ts0_38E_R.mol2\n",
      "Converted pdbbind_dataset_rna/parsed_ligand_pdb/4ts2_38E_H.pdb to pdbbind_dataset_rna/parsed_ligand_mol2_/4ts2_38E_H.mol2\n"
     ]
    },
    {
     "name": "stderr",
     "output_type": "stream",
     "text": [
      "1 molecule converted\n",
      "1 molecule converted\n"
     ]
    },
    {
     "name": "stdout",
     "output_type": "stream",
     "text": [
      "Converted pdbbind_dataset_rna/parsed_ligand_pdb/4rzd_PRF_B.pdb to pdbbind_dataset_rna/parsed_ligand_mol2_/4rzd_PRF_B.mol2\n",
      "Converted pdbbind_dataset_rna/parsed_ligand_pdb/2kgp_MIX_B.pdb to pdbbind_dataset_rna/parsed_ligand_mol2_/2kgp_MIX_B.mol2\n"
     ]
    },
    {
     "name": "stderr",
     "output_type": "stream",
     "text": [
      "1 molecule converted\n",
      "1 molecule converted\n"
     ]
    },
    {
     "name": "stdout",
     "output_type": "stream",
     "text": [
      "Converted pdbbind_dataset_rna/parsed_ligand_pdb/4qk9_2BA_C.pdb to pdbbind_dataset_rna/parsed_ligand_mol2_/4qk9_2BA_C.mol2\n",
      "Converted pdbbind_dataset_rna/parsed_ligand_pdb/4aob_SAM_W.pdb to pdbbind_dataset_rna/parsed_ligand_mol2_/4aob_SAM_W.mol2\n"
     ]
    },
    {
     "name": "stderr",
     "output_type": "stream",
     "text": [
      "1 molecule converted\n",
      "1 molecule converted\n"
     ]
    },
    {
     "name": "stdout",
     "output_type": "stream",
     "text": [
      "Converted pdbbind_dataset_rna/parsed_ligand_pdb/6hag_SAH_B.pdb to pdbbind_dataset_rna/parsed_ligand_mol2_/6hag_SAH_B.mol2\n",
      "Converted pdbbind_dataset_rna/parsed_ligand_pdb/4jf2_PRF_B.pdb to pdbbind_dataset_rna/parsed_ligand_mol2_/4jf2_PRF_B.mol2\n"
     ]
    },
    {
     "name": "stderr",
     "output_type": "stream",
     "text": [
      "1 molecule converted\n",
      "1 molecule converted\n"
     ]
    },
    {
     "name": "stdout",
     "output_type": "stream",
     "text": [
      "Converted pdbbind_dataset_rna/parsed_ligand_pdb/3e5c_SAM_Q.pdb to pdbbind_dataset_rna/parsed_ligand_mol2_/3e5c_SAM_Q.mol2\n"
     ]
    },
    {
     "name": "stderr",
     "output_type": "stream",
     "text": [
      "1 molecule converted\n",
      "1 molecule converted\n"
     ]
    },
    {
     "name": "stdout",
     "output_type": "stream",
     "text": [
      "Converted pdbbind_dataset_rna/parsed_ligand_pdb/4l81_SAM_B.pdb to pdbbind_dataset_rna/parsed_ligand_mol2_/4l81_SAM_B.mol2\n",
      "Converted pdbbind_dataset_rna/parsed_ligand_pdb/5btp_AMZ_J.pdb to pdbbind_dataset_rna/parsed_ligand_mol2_/5btp_AMZ_J.mol2\n"
     ]
    },
    {
     "name": "stderr",
     "output_type": "stream",
     "text": [
      "1 molecule converted\n",
      "1 molecule converted\n"
     ]
    },
    {
     "name": "stdout",
     "output_type": "stream",
     "text": [
      "Converted pdbbind_dataset_rna/parsed_ligand_pdb/3fu2_PRF_M.pdb to pdbbind_dataset_rna/parsed_ligand_mol2_/3fu2_PRF_M.mol2\n",
      "Converted pdbbind_dataset_rna/parsed_ligand_pdb/4qk9_2BA_B.pdb to pdbbind_dataset_rna/parsed_ligand_mol2_/4qk9_2BA_B.mol2\n"
     ]
    },
    {
     "name": "stderr",
     "output_type": "stream",
     "text": [
      "1 molecule converted\n",
      "1 molecule converted\n"
     ]
    },
    {
     "name": "stdout",
     "output_type": "stream",
     "text": [
      "Converted pdbbind_dataset_rna/parsed_ligand_pdb/3s4p_JS6_D.pdb to pdbbind_dataset_rna/parsed_ligand_mol2_/3s4p_JS6_D.mol2\n",
      "Converted pdbbind_dataset_rna/parsed_ligand_pdb/4nyd_HPA_B.pdb to pdbbind_dataset_rna/parsed_ligand_mol2_/4nyd_HPA_B.mol2\n"
     ]
    },
    {
     "name": "stderr",
     "output_type": "stream",
     "text": [
      "1 molecule converted\n",
      "1 molecule converted\n"
     ]
    },
    {
     "name": "stdout",
     "output_type": "stream",
     "text": [
      "Converted pdbbind_dataset_rna/parsed_ligand_pdb/3q3z_C2E_L.pdb to pdbbind_dataset_rna/parsed_ligand_mol2_/3q3z_C2E_L.mol2\n",
      "Converted pdbbind_dataset_rna/parsed_ligand_pdb/6ck5_PRP_S.pdb to pdbbind_dataset_rna/parsed_ligand_mol2_/6ck5_PRP_S.mol2\n"
     ]
    },
    {
     "name": "stderr",
     "output_type": "stream",
     "text": [
      "1 molecule converted\n",
      "==============================\n",
      "*** Open Babel Warning  in PerceiveBondOrders\n",
      "  Failed to kekulize aromatic bonds in OBMol::PerceiveBondOrders (title is pdbbind_dataset_rna/parsed_ligand_pdb/6e8s_EKJ_C.pdb)\n",
      "\n",
      "1 molecule converted\n"
     ]
    },
    {
     "name": "stdout",
     "output_type": "stream",
     "text": [
      "Converted pdbbind_dataset_rna/parsed_ligand_pdb/2au4_GTP_B.pdb to pdbbind_dataset_rna/parsed_ligand_mol2_/2au4_GTP_B.mol2\n",
      "Converted pdbbind_dataset_rna/parsed_ligand_pdb/6e8s_EKJ_C.pdb to pdbbind_dataset_rna/parsed_ligand_mol2_/6e8s_EKJ_C.mol2\n"
     ]
    },
    {
     "name": "stderr",
     "output_type": "stream",
     "text": [
      "1 molecule converted\n",
      "1 molecule converted\n"
     ]
    },
    {
     "name": "stdout",
     "output_type": "stream",
     "text": [
      "Converted pdbbind_dataset_rna/parsed_ligand_pdb/2ku0_ISI_B.pdb to pdbbind_dataset_rna/parsed_ligand_mol2_/2ku0_ISI_B.mol2\n",
      "Converted pdbbind_dataset_rna/parsed_ligand_pdb/6ck4_G4P_R.pdb to pdbbind_dataset_rna/parsed_ligand_mol2_/6ck4_G4P_R.mol2\n"
     ]
    },
    {
     "name": "stderr",
     "output_type": "stream",
     "text": [
      "1 molecule converted\n",
      "1 molecule converted\n"
     ]
    },
    {
     "name": "stdout",
     "output_type": "stream",
     "text": [
      "Converted pdbbind_dataset_rna/parsed_ligand_pdb/1fyp_PAR_B.pdb to pdbbind_dataset_rna/parsed_ligand_mol2_/1fyp_PAR_B.mol2\n",
      "Converted pdbbind_dataset_rna/parsed_ligand_pdb/2o3w_PAR_C.pdb to pdbbind_dataset_rna/parsed_ligand_mol2_/2o3w_PAR_C.mol2\n"
     ]
    },
    {
     "name": "stderr",
     "output_type": "stream",
     "text": [
      "1 molecule converted\n",
      "1 molecule converted\n"
     ]
    },
    {
     "name": "stdout",
     "output_type": "stream",
     "text": [
      "Converted pdbbind_dataset_rna/parsed_ligand_pdb/3g4m_2BP_B.pdb to pdbbind_dataset_rna/parsed_ligand_mol2_/3g4m_2BP_B.mol2\n",
      "Converted pdbbind_dataset_rna/parsed_ligand_pdb/2f4t_AB9_C.pdb to pdbbind_dataset_rna/parsed_ligand_mol2_/2f4t_AB9_C.mol2\n"
     ]
    },
    {
     "name": "stderr",
     "output_type": "stream",
     "text": [
      "1 molecule converted\n",
      "1 molecule converted\n"
     ]
    },
    {
     "name": "stdout",
     "output_type": "stream",
     "text": [
      "Converted pdbbind_dataset_rna/parsed_ligand_pdb/3mur_C2E_C.pdb to pdbbind_dataset_rna/parsed_ligand_mol2_/3mur_C2E_C.mol2\n",
      "Converted pdbbind_dataset_rna/parsed_ligand_pdb/4qln_2BA_C.pdb to pdbbind_dataset_rna/parsed_ligand_mol2_/4qln_2BA_C.mol2\n"
     ]
    },
    {
     "name": "stderr",
     "output_type": "stream",
     "text": [
      "==============================\n",
      "*** Open Babel Warning  in PerceiveBondOrders\n",
      "  Failed to kekulize aromatic bonds in OBMol::PerceiveBondOrders (title is pdbbind_dataset_rna/parsed_ligand_pdb/5v3f_74G_J.pdb)\n",
      "\n",
      "1 molecule converted\n",
      "1 molecule converted\n"
     ]
    },
    {
     "name": "stdout",
     "output_type": "stream",
     "text": [
      "Converted pdbbind_dataset_rna/parsed_ligand_pdb/5v3f_74G_J.pdb to pdbbind_dataset_rna/parsed_ligand_mol2_/5v3f_74G_J.mol2\n",
      "Converted pdbbind_dataset_rna/parsed_ligand_pdb/3gao_XAN_B.pdb to pdbbind_dataset_rna/parsed_ligand_mol2_/3gao_XAN_B.mol2\n"
     ]
    },
    {
     "name": "stderr",
     "output_type": "stream",
     "text": [
      "==============================\n",
      "*** Open Babel Warning  in PerceiveBondOrders\n",
      "  Failed to kekulize aromatic bonds in OBMol::PerceiveBondOrders (title is pdbbind_dataset_rna/parsed_ligand_pdb/6c64_EKM_D.pdb)\n",
      "\n",
      "1 molecule converted\n",
      "1 molecule converted\n"
     ]
    },
    {
     "name": "stdout",
     "output_type": "stream",
     "text": [
      "Converted pdbbind_dataset_rna/parsed_ligand_pdb/6c64_EKM_D.pdb to pdbbind_dataset_rna/parsed_ligand_mol2_/6c64_EKM_D.mol2\n",
      "Converted pdbbind_dataset_rna/parsed_ligand_pdb/5lwj_GTP_B.pdb to pdbbind_dataset_rna/parsed_ligand_mol2_/5lwj_GTP_B.mol2\n"
     ]
    },
    {
     "name": "stderr",
     "output_type": "stream",
     "text": [
      "1 molecule converted\n",
      "1 molecule converted\n"
     ]
    },
    {
     "name": "stdout",
     "output_type": "stream",
     "text": [
      "Converted pdbbind_dataset_rna/parsed_ligand_pdb/4lvw_7DG_C.pdb to pdbbind_dataset_rna/parsed_ligand_mol2_/4lvw_7DG_C.mol2\n",
      "Converted pdbbind_dataset_rna/parsed_ligand_pdb/2kx8_ARG_B.pdb to pdbbind_dataset_rna/parsed_ligand_mol2_/2kx8_ARG_B.mol2\n"
     ]
    },
    {
     "name": "stderr",
     "output_type": "stream",
     "text": [
      "1 molecule converted\n",
      "1 molecule converted\n"
     ]
    },
    {
     "name": "stdout",
     "output_type": "stream",
     "text": [
      "Converted pdbbind_dataset_rna/parsed_ligand_pdb/2g5k_AM2_C.pdb to pdbbind_dataset_rna/parsed_ligand_mol2_/2g5k_AM2_C.mol2\n",
      "Converted pdbbind_dataset_rna/parsed_ligand_pdb/4znp_AMZ_F.pdb to pdbbind_dataset_rna/parsed_ligand_mol2_/4znp_AMZ_F.mol2\n"
     ]
    },
    {
     "name": "stderr",
     "output_type": "stream",
     "text": [
      "1 molecule converted\n",
      "1 molecule converted\n"
     ]
    },
    {
     "name": "stdout",
     "output_type": "stream",
     "text": [
      "Converted pdbbind_dataset_rna/parsed_ligand_pdb/2be0_JS5_D.pdb to pdbbind_dataset_rna/parsed_ligand_mol2_/2be0_JS5_D.mol2\n",
      "Converted pdbbind_dataset_rna/parsed_ligand_pdb/4nyc_SVN_B.pdb to pdbbind_dataset_rna/parsed_ligand_mol2_/4nyc_SVN_B.mol2\n"
     ]
    },
    {
     "name": "stderr",
     "output_type": "stream",
     "text": [
      "==============================\n",
      "*** Open Babel Warning  in PerceiveBondOrders\n",
      "  Failed to kekulize aromatic bonds in OBMol::PerceiveBondOrders (title is pdbbind_dataset_rna/parsed_ligand_pdb/6e84_J0D_C.pdb)\n",
      "\n",
      "1 molecule converted\n",
      "==============================\n",
      "*** Open Babel Warning  in PerceiveBondOrders\n",
      "  Failed to kekulize aromatic bonds in OBMol::PerceiveBondOrders (title is pdbbind_dataset_rna/parsed_ligand_pdb/6e81_TFX_B.pdb)\n",
      "\n",
      "1 molecule converted\n"
     ]
    },
    {
     "name": "stdout",
     "output_type": "stream",
     "text": [
      "Converted pdbbind_dataset_rna/parsed_ligand_pdb/6e84_J0D_C.pdb to pdbbind_dataset_rna/parsed_ligand_mol2_/6e84_J0D_C.mol2\n",
      "Converted pdbbind_dataset_rna/parsed_ligand_pdb/6e81_TFX_B.pdb to pdbbind_dataset_rna/parsed_ligand_mol2_/6e81_TFX_B.mol2\n"
     ]
    },
    {
     "name": "stderr",
     "output_type": "stream",
     "text": [
      "1 molecule converted\n",
      "1 molecule converted\n"
     ]
    },
    {
     "name": "stdout",
     "output_type": "stream",
     "text": [
      "Converted pdbbind_dataset_rna/parsed_ligand_pdb/4lx5_29G_B.pdb to pdbbind_dataset_rna/parsed_ligand_mol2_/4lx5_29G_B.mol2\n",
      "Converted pdbbind_dataset_rna/parsed_ligand_pdb/2ygh_SAM_B.pdb to pdbbind_dataset_rna/parsed_ligand_mol2_/2ygh_SAM_B.mol2\n"
     ]
    },
    {
     "name": "stderr",
     "output_type": "stream",
     "text": [
      "==============================\n",
      "*** Open Babel Warning  in PerceiveBondOrders\n",
      "  Failed to kekulize aromatic bonds in OBMol::PerceiveBondOrders (title is pdbbind_dataset_rna/parsed_ligand_pdb/6e8t_HZG_J.pdb)\n",
      "\n",
      "1 molecule converted\n",
      "1 molecule converted\n"
     ]
    },
    {
     "name": "stdout",
     "output_type": "stream",
     "text": [
      "Converted pdbbind_dataset_rna/parsed_ligand_pdb/6e8t_HZG_J.pdb to pdbbind_dataset_rna/parsed_ligand_mol2_/6e8t_HZG_J.mol2\n",
      "Converted pdbbind_dataset_rna/parsed_ligand_pdb/3q3z_C2E_C.pdb to pdbbind_dataset_rna/parsed_ligand_mol2_/3q3z_C2E_C.mol2\n"
     ]
    },
    {
     "name": "stderr",
     "output_type": "stream",
     "text": [
      "1 molecule converted\n",
      "1 molecule converted\n"
     ]
    },
    {
     "name": "stdout",
     "output_type": "stream",
     "text": [
      "Converted pdbbind_dataset_rna/parsed_ligand_pdb/3fo6_6GO_B.pdb to pdbbind_dataset_rna/parsed_ligand_mol2_/3fo6_6GO_B.mol2\n",
      "Converted pdbbind_dataset_rna/parsed_ligand_pdb/4lvy_LYA_C.pdb to pdbbind_dataset_rna/parsed_ligand_mol2_/4lvy_LYA_C.mol2\n"
     ]
    },
    {
     "name": "stderr",
     "output_type": "stream",
     "text": [
      "1 molecule converted\n",
      "1 molecule converted\n"
     ]
    },
    {
     "name": "stdout",
     "output_type": "stream",
     "text": [
      "Converted pdbbind_dataset_rna/parsed_ligand_pdb/2xo0_ZZS_K.pdb to pdbbind_dataset_rna/parsed_ligand_mol2_/2xo0_ZZS_K.mol2\n",
      "Converted pdbbind_dataset_rna/parsed_ligand_pdb/4znp_AMZ_C.pdb to pdbbind_dataset_rna/parsed_ligand_mol2_/4znp_AMZ_C.mol2\n"
     ]
    },
    {
     "name": "stderr",
     "output_type": "stream",
     "text": [
      "1 molecule converted\n",
      "1 molecule converted\n"
     ]
    },
    {
     "name": "stdout",
     "output_type": "stream",
     "text": [
      "Converted pdbbind_dataset_rna/parsed_ligand_pdb/1ykv_DAI_J.pdb to pdbbind_dataset_rna/parsed_ligand_mol2_/1ykv_DAI_J.mol2\n",
      "Converted pdbbind_dataset_rna/parsed_ligand_pdb/6dlt_PRP_H.pdb to pdbbind_dataset_rna/parsed_ligand_mol2_/6dlt_PRP_H.mol2\n"
     ]
    },
    {
     "name": "stderr",
     "output_type": "stream",
     "text": [
      "1 molecule converted\n",
      "1 molecule converted\n"
     ]
    },
    {
     "name": "stdout",
     "output_type": "stream",
     "text": [
      "Converted pdbbind_dataset_rna/parsed_ligand_pdb/4nya_2QB_L.pdb to pdbbind_dataset_rna/parsed_ligand_mol2_/4nya_2QB_L.mol2\n",
      "Converted pdbbind_dataset_rna/parsed_ligand_pdb/6dmc_G4P_W.pdb to pdbbind_dataset_rna/parsed_ligand_mol2_/6dmc_G4P_W.mol2\n"
     ]
    },
    {
     "name": "stderr",
     "output_type": "stream",
     "text": [
      "1 molecule converted\n",
      "1 molecule converted\n"
     ]
    },
    {
     "name": "stdout",
     "output_type": "stream",
     "text": [
      "Converted pdbbind_dataset_rna/parsed_ligand_pdb/4nyb_2QC_B.pdb to pdbbind_dataset_rna/parsed_ligand_mol2_/4nyb_2QC_B.mol2\n",
      "Converted pdbbind_dataset_rna/parsed_ligand_pdb/4yaz_4BW_L.pdb to pdbbind_dataset_rna/parsed_ligand_mol2_/4yaz_4BW_L.mol2\n"
     ]
    },
    {
     "name": "stderr",
     "output_type": "stream",
     "text": [
      "1 molecule converted\n",
      "1 molecule converted\n"
     ]
    },
    {
     "name": "stdout",
     "output_type": "stream",
     "text": [
      "Converted pdbbind_dataset_rna/parsed_ligand_pdb/1q8n_MGR_B.pdb to pdbbind_dataset_rna/parsed_ligand_mol2_/1q8n_MGR_B.mol2\n",
      "Converted pdbbind_dataset_rna/parsed_ligand_pdb/4oqu_SAM_B.pdb to pdbbind_dataset_rna/parsed_ligand_mol2_/4oqu_SAM_B.mol2\n"
     ]
    },
    {
     "name": "stderr",
     "output_type": "stream",
     "text": [
      "1 molecule converted\n",
      "1 molecule converted\n"
     ]
    },
    {
     "name": "stdout",
     "output_type": "stream",
     "text": [
      "Converted pdbbind_dataset_rna/parsed_ligand_pdb/6qn3_GLN_L.pdb to pdbbind_dataset_rna/parsed_ligand_mol2_/6qn3_GLN_L.mol2\n",
      "Converted pdbbind_dataset_rna/parsed_ligand_pdb/4lvw_7DG_B.pdb to pdbbind_dataset_rna/parsed_ligand_mol2_/4lvw_7DG_B.mol2\n"
     ]
    },
    {
     "name": "stderr",
     "output_type": "stream",
     "text": [
      "1 molecule converted\n",
      "1 molecule converted\n"
     ]
    },
    {
     "name": "stdout",
     "output_type": "stream",
     "text": [
      "Converted pdbbind_dataset_rna/parsed_ligand_pdb/3b31_IRI_D.pdb to pdbbind_dataset_rna/parsed_ligand_mol2_/3b31_IRI_D.mol2\n",
      "Converted pdbbind_dataset_rna/parsed_ligand_pdb/4lvx_H4B_B.pdb to pdbbind_dataset_rna/parsed_ligand_mol2_/4lvx_H4B_B.mol2\n"
     ]
    },
    {
     "name": "stderr",
     "output_type": "stream",
     "text": [
      "1 molecule converted\n",
      "1 molecule converted\n"
     ]
    },
    {
     "name": "stdout",
     "output_type": "stream",
     "text": [
      "Converted pdbbind_dataset_rna/parsed_ligand_pdb/2ydh_SAM_G.pdb to pdbbind_dataset_rna/parsed_ligand_mol2_/2ydh_SAM_G.mol2\n",
      "Converted pdbbind_dataset_rna/parsed_ligand_pdb/1i9v_NMY_B.pdb to pdbbind_dataset_rna/parsed_ligand_mol2_/1i9v_NMY_B.mol2\n"
     ]
    },
    {
     "name": "stderr",
     "output_type": "stream",
     "text": [
      "1 molecule converted\n",
      "1 molecule converted\n"
     ]
    },
    {
     "name": "stdout",
     "output_type": "stream",
     "text": [
      "Converted pdbbind_dataset_rna/parsed_ligand_pdb/4w90_2BA_D.pdb to pdbbind_dataset_rna/parsed_ligand_mol2_/4w90_2BA_D.mol2\n",
      "Converted pdbbind_dataset_rna/parsed_ligand_pdb/4lvy_LYA_B.pdb to pdbbind_dataset_rna/parsed_ligand_mol2_/4lvy_LYA_B.mol2\n"
     ]
    },
    {
     "name": "stderr",
     "output_type": "stream",
     "text": [
      "1 molecule converted\n",
      "1 molecule converted\n"
     ]
    },
    {
     "name": "stdout",
     "output_type": "stream",
     "text": [
      "Converted pdbbind_dataset_rna/parsed_ligand_pdb/2ktz_ISH_B.pdb to pdbbind_dataset_rna/parsed_ligand_mol2_/2ktz_ISH_B.mol2\n",
      "Converted pdbbind_dataset_rna/parsed_ligand_pdb/3q3z_C2E_Q.pdb to pdbbind_dataset_rna/parsed_ligand_mol2_/3q3z_C2E_Q.mol2\n"
     ]
    },
    {
     "name": "stderr",
     "output_type": "stream",
     "text": [
      "1 molecule converted\n",
      "1 molecule converted\n"
     ]
    },
    {
     "name": "stdout",
     "output_type": "stream",
     "text": [
      "Converted pdbbind_dataset_rna/parsed_ligand_pdb/2xnz_3AW_I.pdb to pdbbind_dataset_rna/parsed_ligand_mol2_/2xnz_3AW_I.mol2\n",
      "Converted pdbbind_dataset_rna/parsed_ligand_pdb/3jq4_LC2_C.pdb to pdbbind_dataset_rna/parsed_ligand_mol2_/3jq4_LC2_C.mol2\n"
     ]
    },
    {
     "name": "stderr",
     "output_type": "stream",
     "text": [
      "==============================\n",
      "*** Open Babel Warning  in PerceiveBondOrders\n",
      "  Failed to kekulize aromatic bonds in OBMol::PerceiveBondOrders (title is pdbbind_dataset_rna/parsed_ligand_pdb/6e8t_HZG_G.pdb)\n",
      "\n",
      "1 molecule converted\n"
     ]
    },
    {
     "name": "stdout",
     "output_type": "stream",
     "text": [
      "Converted pdbbind_dataset_rna/parsed_ligand_pdb/6e8t_HZG_G.pdb to pdbbind_dataset_rna/parsed_ligand_mol2_/6e8t_HZG_G.mol2\n"
     ]
    },
    {
     "name": "stderr",
     "output_type": "stream",
     "text": [
      "==============================\n",
      "*** Open Babel Warning  in PerceiveBondOrders\n",
      "  Failed to kekulize aromatic bonds in OBMol::PerceiveBondOrders (title is pdbbind_dataset_rna/parsed_ligand_pdb/6e8u_HZD_G.pdb)\n",
      "\n",
      "1 molecule converted\n",
      "1 molecule converted\n"
     ]
    },
    {
     "name": "stdout",
     "output_type": "stream",
     "text": [
      "Converted pdbbind_dataset_rna/parsed_ligand_pdb/6e8u_HZD_G.pdb to pdbbind_dataset_rna/parsed_ligand_mol2_/6e8u_HZD_G.mol2\n",
      "Converted pdbbind_dataset_rna/parsed_ligand_pdb/1yrj_AM2_C.pdb to pdbbind_dataset_rna/parsed_ligand_mol2_/1yrj_AM2_C.mol2\n"
     ]
    },
    {
     "name": "stderr",
     "output_type": "stream",
     "text": [
      "1 molecule converted\n",
      "1 molecule converted\n"
     ]
    },
    {
     "name": "stdout",
     "output_type": "stream",
     "text": [
      "Converted pdbbind_dataset_rna/parsed_ligand_pdb/3npn_SAH_B.pdb to pdbbind_dataset_rna/parsed_ligand_mol2_/3npn_SAH_B.mol2\n",
      "Converted pdbbind_dataset_rna/parsed_ligand_pdb/6hbt_FXQ_D.pdb to pdbbind_dataset_rna/parsed_ligand_mol2_/6hbt_FXQ_D.mol2\n"
     ]
    },
    {
     "name": "stderr",
     "output_type": "stream",
     "text": [
      "1 molecule converted\n",
      "==============================\n",
      "*** Open Babel Warning  in PerceiveBondOrders\n",
      "  Failed to kekulize aromatic bonds in OBMol::PerceiveBondOrders (title is pdbbind_dataset_rna/parsed_ligand_pdb/6c64_EKM_H.pdb)\n",
      "\n",
      "1 molecule converted\n"
     ]
    },
    {
     "name": "stdout",
     "output_type": "stream",
     "text": [
      "Converted pdbbind_dataset_rna/parsed_ligand_pdb/4yaz_4BW_H.pdb to pdbbind_dataset_rna/parsed_ligand_mol2_/4yaz_4BW_H.mol2\n",
      "Converted pdbbind_dataset_rna/parsed_ligand_pdb/6c64_EKM_H.pdb to pdbbind_dataset_rna/parsed_ligand_mol2_/6c64_EKM_H.mol2\n"
     ]
    },
    {
     "name": "stderr",
     "output_type": "stream",
     "text": [
      "1 molecule converted\n",
      "1 molecule converted\n"
     ]
    },
    {
     "name": "stdout",
     "output_type": "stream",
     "text": [
      "Converted pdbbind_dataset_rna/parsed_ligand_pdb/3mum_C2E_C.pdb to pdbbind_dataset_rna/parsed_ligand_mol2_/3mum_C2E_C.mol2\n",
      "Converted pdbbind_dataset_rna/parsed_ligand_pdb/1arj_ARG_B.pdb to pdbbind_dataset_rna/parsed_ligand_mol2_/1arj_ARG_B.mol2\n"
     ]
    },
    {
     "name": "stderr",
     "output_type": "stream",
     "text": [
      "1 molecule converted\n",
      "1 molecule converted\n"
     ]
    },
    {
     "name": "stdout",
     "output_type": "stream",
     "text": [
      "Converted pdbbind_dataset_rna/parsed_ligand_pdb/2bee_JS4_D.pdb to pdbbind_dataset_rna/parsed_ligand_mol2_/2bee_JS4_D.mol2\n",
      "Converted pdbbind_dataset_rna/parsed_ligand_pdb/3fu2_PRF_J.pdb to pdbbind_dataset_rna/parsed_ligand_mol2_/3fu2_PRF_J.mol2\n"
     ]
    },
    {
     "name": "stderr",
     "output_type": "stream",
     "text": [
      "1 molecule converted\n",
      "1 molecule converted\n"
     ]
    },
    {
     "name": "stdout",
     "output_type": "stream",
     "text": [
      "Converted pdbbind_dataset_rna/parsed_ligand_pdb/5c7u_HPA_I.pdb to pdbbind_dataset_rna/parsed_ligand_mol2_/5c7u_HPA_I.mol2\n",
      "Converted pdbbind_dataset_rna/parsed_ligand_pdb/4w90_2BA_C.pdb to pdbbind_dataset_rna/parsed_ligand_mol2_/4w90_2BA_C.mol2\n"
     ]
    },
    {
     "name": "stderr",
     "output_type": "stream",
     "text": [
      "1 molecule converted\n",
      "==============================\n",
      "*** Open Babel Warning  in PerceiveBondOrders\n",
      "  Failed to kekulize aromatic bonds in OBMol::PerceiveBondOrders (title is pdbbind_dataset_rna/parsed_ligand_pdb/5kpy_4PQ_B.pdb)\n",
      "\n",
      "1 molecule converted\n"
     ]
    },
    {
     "name": "stdout",
     "output_type": "stream",
     "text": [
      "Converted pdbbind_dataset_rna/parsed_ligand_pdb/1qd3_RIB_B.pdb to pdbbind_dataset_rna/parsed_ligand_mol2_/1qd3_RIB_B.mol2\n",
      "Converted pdbbind_dataset_rna/parsed_ligand_pdb/5kpy_4PQ_B.pdb to pdbbind_dataset_rna/parsed_ligand_mol2_/5kpy_4PQ_B.mol2\n"
     ]
    },
    {
     "name": "stderr",
     "output_type": "stream",
     "text": [
      "1 molecule converted\n",
      "1 molecule converted\n"
     ]
    },
    {
     "name": "stdout",
     "output_type": "stream",
     "text": [
      "Converted pdbbind_dataset_rna/parsed_ligand_pdb/5c7w_HPA_J.pdb to pdbbind_dataset_rna/parsed_ligand_mol2_/5c7w_HPA_J.mol2\n",
      "Converted pdbbind_dataset_rna/parsed_ligand_pdb/2n0j_RIO_B.pdb to pdbbind_dataset_rna/parsed_ligand_mol2_/2n0j_RIO_B.mol2\n"
     ]
    },
    {
     "name": "stderr",
     "output_type": "stream",
     "text": [
      "1 molecule converted\n",
      "1 molecule converted\n"
     ]
    },
    {
     "name": "stdout",
     "output_type": "stream",
     "text": [
      "Converted pdbbind_dataset_rna/parsed_ligand_pdb/2mxs_PAR_B.pdb to pdbbind_dataset_rna/parsed_ligand_mol2_/2mxs_PAR_B.mol2\n",
      "Converted pdbbind_dataset_rna/parsed_ligand_pdb/2f4u_AB6_C.pdb to pdbbind_dataset_rna/parsed_ligand_mol2_/2f4u_AB6_C.mol2\n"
     ]
    },
    {
     "name": "stderr",
     "output_type": "stream",
     "text": [
      "1 molecule converted\n",
      "1 molecule converted\n"
     ]
    },
    {
     "name": "stdout",
     "output_type": "stream",
     "text": [
      "Converted pdbbind_dataset_rna/parsed_ligand_pdb/2g9c_3AY_O.pdb to pdbbind_dataset_rna/parsed_ligand_mol2_/2g9c_3AY_O.mol2\n",
      "Converted pdbbind_dataset_rna/parsed_ligand_pdb/1ykv_DAI_E.pdb to pdbbind_dataset_rna/parsed_ligand_mol2_/1ykv_DAI_E.mol2\n"
     ]
    },
    {
     "name": "stderr",
     "output_type": "stream",
     "text": [
      "==============================\n",
      "*** Open Babel Warning  in PerceiveBondOrders\n",
      "  Failed to kekulize aromatic bonds in OBMol::PerceiveBondOrders (title is pdbbind_dataset_rna/parsed_ligand_pdb/4nyg_VIB_B.pdb)\n",
      "\n",
      "1 molecule converted\n",
      "1 molecule converted\n"
     ]
    },
    {
     "name": "stdout",
     "output_type": "stream",
     "text": [
      "Converted pdbbind_dataset_rna/parsed_ligand_pdb/4nyg_VIB_B.pdb to pdbbind_dataset_rna/parsed_ligand_mol2_/4nyg_VIB_B.mol2\n",
      "Converted pdbbind_dataset_rna/parsed_ligand_pdb/1uts_P13_B.pdb to pdbbind_dataset_rna/parsed_ligand_mol2_/1uts_P13_B.mol2\n"
     ]
    },
    {
     "name": "stderr",
     "output_type": "stream",
     "text": [
      "1 molecule converted\n",
      "1 molecule converted\n"
     ]
    },
    {
     "name": "stdout",
     "output_type": "stream",
     "text": [
      "Converted pdbbind_dataset_rna/parsed_ligand_pdb/1yrj_AM2_E.pdb to pdbbind_dataset_rna/parsed_ligand_mol2_/1yrj_AM2_E.mol2\n",
      "Converted pdbbind_dataset_rna/parsed_ligand_pdb/4lx6_29H_B.pdb to pdbbind_dataset_rna/parsed_ligand_mol2_/4lx6_29H_B.mol2\n"
     ]
    },
    {
     "name": "stderr",
     "output_type": "stream",
     "text": [
      "1 molecule converted\n",
      "1 molecule converted\n"
     ]
    },
    {
     "name": "stdout",
     "output_type": "stream",
     "text": [
      "Converted pdbbind_dataset_rna/parsed_ligand_pdb/3la5_5AZ_L.pdb to pdbbind_dataset_rna/parsed_ligand_mol2_/3la5_5AZ_L.mol2\n",
      "Converted pdbbind_dataset_rna/parsed_ligand_pdb/2b57_6AP_L.pdb to pdbbind_dataset_rna/parsed_ligand_mol2_/2b57_6AP_L.mol2\n"
     ]
    },
    {
     "name": "stderr",
     "output_type": "stream",
     "text": [
      "1 molecule converted\n",
      "1 molecule converted\n"
     ]
    },
    {
     "name": "stdout",
     "output_type": "stream",
     "text": [
      "Converted pdbbind_dataset_rna/parsed_ligand_pdb/4lvv_FFO_B.pdb to pdbbind_dataset_rna/parsed_ligand_mol2_/4lvv_FFO_B.mol2\n",
      "Converted pdbbind_dataset_rna/parsed_ligand_pdb/4qln_2BA_B.pdb to pdbbind_dataset_rna/parsed_ligand_mol2_/4qln_2BA_B.mol2\n"
     ]
    }
   ],
   "source": [
    "import os\n",
    "import subprocess\n",
    "\n",
    "def convert_pdb_to_mol2(pdb_dir, output_dir):\n",
    "    # Create the output directory if it doesn't exist\n",
    "    if not os.path.exists(output_dir):\n",
    "        os.makedirs(output_dir)\n",
    "    \n",
    "    # Loop through all files in the pdb_dir\n",
    "    for filename in os.listdir(pdb_dir):\n",
    "        if filename.endswith(\".pdb\"):\n",
    "            # Define the input and output file paths\n",
    "            pdb_file = os.path.join(pdb_dir, filename)\n",
    "            mol2_file = os.path.join(output_dir, filename.replace(\".pdb\", \".mol2\"))\n",
    "            \n",
    "            # Use Open Babel to convert the PDB file to MOL2 format\n",
    "            subprocess.run(['obabel', pdb_file, '-O', mol2_file])\n",
    "            print(f\"Converted {pdb_file} to {mol2_file}\")\n",
    "            \n",
    "            # Modify the <TRIPOS>MOLECULE entry in the generated MOL2 file\n",
    "            modify_mol2_molecule_name(mol2_file, filename)\n",
    "\n",
    "def modify_mol2_molecule_name(mol2_file, pdb_filename):\n",
    "    # Construct the new molecule name (e.g., \"6hag_ligand\")\n",
    "    pdb_base = pdb_filename.split(\"_\")[0]  # Extract the base name before the first underscore\n",
    "    new_molecule_name = f\"{pdb_base}_ligand\"\n",
    "\n",
    "    # Read the MOL2 file and modify the molecule name\n",
    "    with open(mol2_file, 'r') as file:\n",
    "        lines = file.readlines()\n",
    "\n",
    "    # Find the <TRIPOS>MOLECULE section and replace the molecule name\n",
    "    for i, line in enumerate(lines):\n",
    "        if line.startswith('@<TRIPOS>MOLECULE'):\n",
    "            lines[i + 1] = f\"{new_molecule_name}\\n\"  # Replace the line after <TRIPOS>MOLECULE\n",
    "            break\n",
    "\n",
    "    # Write the modified content back to the MOL2 file\n",
    "    with open(mol2_file, 'w') as file:\n",
    "        file.writelines(lines)\n",
    "\n",
    "# Define the directory containing PDB files and the output directory for MOL2 files\n",
    "pdb_directory = \"pdbbind_dataset_rna/parsed_ligand_pdb\"\n",
    "output_directory = \"pdbbind_dataset_rna/parsed_ligand_mol2\"\n",
    "\n",
    "# Convert all PDB files to MOL2\n",
    "convert_pdb_to_mol2(pdb_directory, output_directory)\n"
   ]
  },
  {
   "cell_type": "code",
   "execution_count": 12,
   "metadata": {},
   "outputs": [],
   "source": [
    "import os\n",
    "import shutil\n",
    "import pandas as pd\n",
    "\n",
    "source_dir = \"pdbbind_dataset_rna\"\n",
    "destination_dir = \"pdbbind_rna_set_\"\n",
    "\n",
    "folders = [\n",
    "    \"parsed_rna3db_rnas_whole_pdb\",\n",
    "    \"parsed_ligand_pdb\",\n",
    "    # \"parsed_ligand_mol2\"\n",
    "]\n",
    "\n",
    "df = read_fasta_to_df(fasta_file)\n",
    "ids_to_remove = [\"1q2t\", \"2kdq\", \"3sd3\", \"5uzz\", \"6d2u\", \"2rsk\"]\n",
    "fasta_ids = remove_ids_from_df(df, ids_to_remove)['ID']\n",
    "\n",
    "\n",
    "for fasta_id in fasta_ids:\n",
    "    output_folder = os.path.join(destination_dir, fasta_id)\n",
    "    os.makedirs(output_folder, exist_ok=True)\n",
    "    for folder in folders:\n",
    "        source_folder = os.path.join(source_dir, folder)\n",
    "        for file_name in os.listdir(source_folder):\n",
    "                if file_name.startswith(fasta_id):\n",
    "                    source_file_path = os.path.join(source_folder, file_name)\n",
    "                    dest_file_path = os.path.join(output_folder, file_name)\n",
    "                    shutil.copy2(source_file_path, dest_file_path)\n",
    "                    break\n",
    "    "
   ]
  },
  {
   "cell_type": "code",
   "execution_count": 30,
   "metadata": {},
   "outputs": [],
   "source": [
    "df =pd.read_csv(\"pdbbind_NL_labels.csv\")"
   ]
  },
  {
   "cell_type": "code",
   "execution_count": 31,
   "metadata": {},
   "outputs": [],
   "source": [
    "df[df['pdb'].isin(fasta_ids)].to_csv(\"pdbbind_NL_labels_rna.csv\", index=False)"
   ]
  },
  {
   "cell_type": "code",
   "execution_count": 34,
   "metadata": {},
   "outputs": [
    {
     "data": {
      "text/plain": [
       "118"
      ]
     },
     "execution_count": 34,
     "metadata": {},
     "output_type": "execute_result"
    }
   ],
   "source": [
    "len(fasta_ids)"
   ]
  },
  {
   "cell_type": "code",
   "execution_count": 13,
   "metadata": {},
   "outputs": [],
   "source": [
    "import os\n",
    "import fnmatch\n",
    "import subprocess\n",
    "pdbbind_rna_set_dir = \"pdbbind_rna_set_\"\n",
    "def convert_pdb_to_mol2(pdbbind_rna_set_dir):\n",
    "    for pdbid in os.listdir(pdbbind_rna_set_dir):\n",
    "        current_dir = os.path.join(pdbbind_rna_set_dir, pdbid)\n",
    "        for filename in os.listdir(current_dir):\n",
    "            pattern = f\"{pdbid}_*_*.pdb\"\n",
    "            if fnmatch.fnmatch(filename, pattern):\n",
    "                pdb_file = os.path.join(current_dir, filename)\n",
    "                mol2_file = os.path.join(current_dir, filename.replace(\".pdb\", \".mol2\"))\n",
    "                # Use Open Babel to convert the PDB file to MOL2 format\n",
    "                subprocess.run(['obabel', pdb_file, '-O', mol2_file])\n",
    "                print(f\"Converted {pdb_file} to {mol2_file}\")\n",
    "\n",
    "    "
   ]
  },
  {
   "cell_type": "code",
   "execution_count": 14,
   "metadata": {},
   "outputs": [
    {
     "name": "stderr",
     "output_type": "stream",
     "text": [
      "1 molecule converted\n",
      "1 molecule converted\n"
     ]
    },
    {
     "name": "stdout",
     "output_type": "stream",
     "text": [
      "Converted pdbbind_rna_set_/3mur/3mur_C2E_C.pdb to pdbbind_rna_set_/3mur/3mur_C2E_C.mol2\n",
      "Converted pdbbind_rna_set_/4lvx/4lvx_H4B_C.pdb to pdbbind_rna_set_/4lvx/4lvx_H4B_C.mol2\n"
     ]
    },
    {
     "name": "stderr",
     "output_type": "stream",
     "text": [
      "1 molecule converted\n",
      "==============================\n",
      "*** Open Babel Warning  in PerceiveBondOrders\n",
      "  Failed to kekulize aromatic bonds in OBMol::PerceiveBondOrders (title is pdbbind_rna_set_/6e8u/6e8u_HZD_G.pdb)\n",
      "\n",
      "1 molecule converted\n"
     ]
    },
    {
     "name": "stdout",
     "output_type": "stream",
     "text": [
      "Converted pdbbind_rna_set_/2o3w/2o3w_PAR_C.pdb to pdbbind_rna_set_/2o3w/2o3w_PAR_C.mol2\n",
      "Converted pdbbind_rna_set_/6e8u/6e8u_HZD_G.pdb to pdbbind_rna_set_/6e8u/6e8u_HZD_G.mol2\n"
     ]
    },
    {
     "name": "stderr",
     "output_type": "stream",
     "text": [
      "==============================\n",
      "*** Open Babel Warning  in PerceiveBondOrders\n",
      "  Failed to kekulize aromatic bonds in OBMol::PerceiveBondOrders (title is pdbbind_rna_set_/6hmo/6hmo_GDZ_C.pdb)\n",
      "\n",
      "1 molecule converted\n",
      "==============================\n",
      "*** Open Babel Warning  in PerceiveBondOrders\n",
      "  Failed to kekulize aromatic bonds in OBMol::PerceiveBondOrders (title is pdbbind_rna_set_/6c63/6c63_EKJ_H.pdb)\n",
      "\n",
      "1 molecule converted\n"
     ]
    },
    {
     "name": "stdout",
     "output_type": "stream",
     "text": [
      "Converted pdbbind_rna_set_/6hmo/6hmo_GDZ_C.pdb to pdbbind_rna_set_/6hmo/6hmo_GDZ_C.mol2\n",
      "Converted pdbbind_rna_set_/6c63/6c63_EKJ_H.pdb to pdbbind_rna_set_/6c63/6c63_EKJ_H.mol2\n"
     ]
    },
    {
     "name": "stderr",
     "output_type": "stream",
     "text": [
      "1 molecule converted\n",
      "1 molecule converted\n"
     ]
    },
    {
     "name": "stdout",
     "output_type": "stream",
     "text": [
      "Converted pdbbind_rna_set_/6hbt/6hbt_FXQ_D.pdb to pdbbind_rna_set_/6hbt/6hbt_FXQ_D.mol2\n",
      "Converted pdbbind_rna_set_/4kqy/4kqy_SAM_B.pdb to pdbbind_rna_set_/4kqy/4kqy_SAM_B.mol2\n"
     ]
    },
    {
     "name": "stderr",
     "output_type": "stream",
     "text": [
      "1 molecule converted\n",
      "1 molecule converted\n"
     ]
    },
    {
     "name": "stdout",
     "output_type": "stream",
     "text": [
      "Converted pdbbind_rna_set_/2ktz/2ktz_ISH_B.pdb to pdbbind_rna_set_/2ktz/2ktz_ISH_B.mol2\n",
      "Converted pdbbind_rna_set_/4lw0/4lw0_ADE_B.pdb to pdbbind_rna_set_/4lw0/4lw0_ADE_B.mol2\n"
     ]
    },
    {
     "name": "stderr",
     "output_type": "stream",
     "text": [
      "1 molecule converted\n",
      "1 molecule converted\n"
     ]
    },
    {
     "name": "stdout",
     "output_type": "stream",
     "text": [
      "Converted pdbbind_rna_set_/6ck5/6ck5_PRP_IA.pdb to pdbbind_rna_set_/6ck5/6ck5_PRP_IA.mol2\n",
      "Converted pdbbind_rna_set_/4fe5/4fe5_HPA_B.pdb to pdbbind_rna_set_/4fe5/4fe5_HPA_B.mol2\n"
     ]
    },
    {
     "name": "stderr",
     "output_type": "stream",
     "text": [
      "1 molecule converted\n",
      "1 molecule converted\n"
     ]
    },
    {
     "name": "stdout",
     "output_type": "stream",
     "text": [
      "Converted pdbbind_rna_set_/5uee/5uee_GP3_C.pdb to pdbbind_rna_set_/5uee/5uee_GP3_C.mol2\n",
      "Converted pdbbind_rna_set_/4lx5/4lx5_29G_B.pdb to pdbbind_rna_set_/4lx5/4lx5_29G_B.mol2\n"
     ]
    },
    {
     "name": "stderr",
     "output_type": "stream",
     "text": [
      "==============================\n",
      "*** Open Babel Warning  in PerceiveBondOrders\n",
      "  Failed to kekulize aromatic bonds in OBMol::PerceiveBondOrders (title is pdbbind_rna_set_/6c64/6c64_EKM_D.pdb)\n",
      "\n",
      "1 molecule converted\n",
      "1 molecule converted\n"
     ]
    },
    {
     "name": "stdout",
     "output_type": "stream",
     "text": [
      "Converted pdbbind_rna_set_/6c64/6c64_EKM_D.pdb to pdbbind_rna_set_/6c64/6c64_EKM_D.mol2\n",
      "Converted pdbbind_rna_set_/4lvv/4lvv_FFO_C.pdb to pdbbind_rna_set_/4lvv/4lvv_FFO_C.mol2\n"
     ]
    },
    {
     "name": "stderr",
     "output_type": "stream",
     "text": [
      "1 molecule converted\n",
      "1 molecule converted\n"
     ]
    },
    {
     "name": "stdout",
     "output_type": "stream",
     "text": [
      "Converted pdbbind_rna_set_/2au4/2au4_GTP_B.pdb to pdbbind_rna_set_/2au4/2au4_GTP_B.mol2\n",
      "Converted pdbbind_rna_set_/4aob/4aob_SAM_W.pdb to pdbbind_rna_set_/4aob/4aob_SAM_W.mol2\n"
     ]
    },
    {
     "name": "stderr",
     "output_type": "stream",
     "text": [
      "1 molecule converted\n",
      "==============================\n",
      "*** Open Babel Warning  in PerceiveBondOrders\n",
      "  Failed to kekulize aromatic bonds in OBMol::PerceiveBondOrders (title is pdbbind_rna_set_/5kpy/5kpy_4PQ_B.pdb)\n",
      "\n",
      "1 molecule converted\n"
     ]
    },
    {
     "name": "stdout",
     "output_type": "stream",
     "text": [
      "Converted pdbbind_rna_set_/1byj/1byj_GE1_B.pdb to pdbbind_rna_set_/1byj/1byj_GE1_B.mol2\n",
      "Converted pdbbind_rna_set_/5kpy/5kpy_4PQ_B.pdb to pdbbind_rna_set_/5kpy/5kpy_4PQ_B.mol2\n"
     ]
    },
    {
     "name": "stderr",
     "output_type": "stream",
     "text": [
      "1 molecule converted\n",
      "1 molecule converted\n"
     ]
    },
    {
     "name": "stdout",
     "output_type": "stream",
     "text": [
      "Converted pdbbind_rna_set_/3fu2/3fu2_PRF_D.pdb to pdbbind_rna_set_/3fu2/3fu2_PRF_D.mol2\n",
      "Converted pdbbind_rna_set_/4qk8/4qk8_2BA_B.pdb to pdbbind_rna_set_/4qk8/4qk8_2BA_B.mol2\n"
     ]
    },
    {
     "name": "stderr",
     "output_type": "stream",
     "text": [
      "1 molecule converted\n",
      "1 molecule converted\n"
     ]
    },
    {
     "name": "stdout",
     "output_type": "stream",
     "text": [
      "Converted pdbbind_rna_set_/2be0/2be0_JS5_C.pdb to pdbbind_rna_set_/2be0/2be0_JS5_C.mol2\n",
      "Converted pdbbind_rna_set_/3jq4/3jq4_LC2_C.pdb to pdbbind_rna_set_/3jq4/3jq4_LC2_C.mol2\n"
     ]
    },
    {
     "name": "stderr",
     "output_type": "stream",
     "text": [
      "1 molecule converted\n",
      "1 molecule converted\n"
     ]
    },
    {
     "name": "stdout",
     "output_type": "stream",
     "text": [
      "Converted pdbbind_rna_set_/3g4m/3g4m_2BP_B.pdb to pdbbind_rna_set_/3g4m/3g4m_2BP_B.mol2\n",
      "Converted pdbbind_rna_set_/4lvz/4lvz_6AP_B.pdb to pdbbind_rna_set_/4lvz/4lvz_6AP_B.mol2\n"
     ]
    },
    {
     "name": "stderr",
     "output_type": "stream",
     "text": [
      "1 molecule converted\n",
      "1 molecule converted\n"
     ]
    },
    {
     "name": "stdout",
     "output_type": "stream",
     "text": [
      "Converted pdbbind_rna_set_/4znp/4znp_AMZ_F.pdb to pdbbind_rna_set_/4znp/4znp_AMZ_F.mol2\n",
      "Converted pdbbind_rna_set_/2n0j/2n0j_RIO_B.pdb to pdbbind_rna_set_/2n0j/2n0j_RIO_B.mol2\n"
     ]
    },
    {
     "name": "stderr",
     "output_type": "stream",
     "text": [
      "1 molecule converted\n",
      "1 molecule converted\n"
     ]
    },
    {
     "name": "stdout",
     "output_type": "stream",
     "text": [
      "Converted pdbbind_rna_set_/1ykv/1ykv_DAI_J.pdb to pdbbind_rna_set_/1ykv/1ykv_DAI_J.mol2\n",
      "Converted pdbbind_rna_set_/3la5/3la5_5AZ_L.pdb to pdbbind_rna_set_/3la5/3la5_5AZ_L.mol2\n"
     ]
    },
    {
     "name": "stderr",
     "output_type": "stream",
     "text": [
      "1 molecule converted\n",
      "1 molecule converted\n"
     ]
    },
    {
     "name": "stdout",
     "output_type": "stream",
     "text": [
      "Converted pdbbind_rna_set_/2kx8/2kx8_ARG_B.pdb to pdbbind_rna_set_/2kx8/2kx8_ARG_B.mol2\n",
      "Converted pdbbind_rna_set_/4rzd/4rzd_PRF_B.pdb to pdbbind_rna_set_/4rzd/4rzd_PRF_B.mol2\n"
     ]
    },
    {
     "name": "stderr",
     "output_type": "stream",
     "text": [
      "1 molecule converted\n"
     ]
    },
    {
     "name": "stdout",
     "output_type": "stream",
     "text": [
      "Converted pdbbind_rna_set_/2ydh/2ydh_SAM_G.pdb to pdbbind_rna_set_/2ydh/2ydh_SAM_G.mol2\n"
     ]
    },
    {
     "name": "stderr",
     "output_type": "stream",
     "text": [
      "1 molecule converted\n",
      "1 molecule converted\n"
     ]
    },
    {
     "name": "stdout",
     "output_type": "stream",
     "text": [
      "Converted pdbbind_rna_set_/2f4s/2f4s_XXX_C.pdb to pdbbind_rna_set_/2f4s/2f4s_XXX_C.mol2\n",
      "Converted pdbbind_rna_set_/1arj/1arj_ARG_B.pdb to pdbbind_rna_set_/1arj/1arj_ARG_B.mol2\n"
     ]
    },
    {
     "name": "stderr",
     "output_type": "stream",
     "text": [
      "1 molecule converted\n",
      "1 molecule converted\n"
     ]
    },
    {
     "name": "stdout",
     "output_type": "stream",
     "text": [
      "Converted pdbbind_rna_set_/1qd3/1qd3_RIB_B.pdb to pdbbind_rna_set_/1qd3/1qd3_RIB_B.mol2\n",
      "Converted pdbbind_rna_set_/2g9c/2g9c_3AY_O.pdb to pdbbind_rna_set_/2g9c/2g9c_3AY_O.mol2\n"
     ]
    },
    {
     "name": "stderr",
     "output_type": "stream",
     "text": [
      "1 molecule converted\n",
      "1 molecule converted\n"
     ]
    },
    {
     "name": "stdout",
     "output_type": "stream",
     "text": [
      "Converted pdbbind_rna_set_/3fo6/3fo6_6GO_B.pdb to pdbbind_rna_set_/3fo6/3fo6_6GO_B.mol2\n",
      "Converted pdbbind_rna_set_/4lx6/4lx6_29H_B.pdb to pdbbind_rna_set_/4lx6/4lx6_29H_B.mol2\n"
     ]
    },
    {
     "name": "stderr",
     "output_type": "stream",
     "text": [
      "1 molecule converted\n",
      "1 molecule converted\n"
     ]
    },
    {
     "name": "stdout",
     "output_type": "stream",
     "text": [
      "Converted pdbbind_rna_set_/1q8n/1q8n_MGR_B.pdb to pdbbind_rna_set_/1q8n/1q8n_MGR_B.mol2\n",
      "Converted pdbbind_rna_set_/4erj/4erj_ACA_B.pdb to pdbbind_rna_set_/4erj/4erj_ACA_B.mol2\n"
     ]
    },
    {
     "name": "stderr",
     "output_type": "stream",
     "text": [
      "1 molecule converted\n",
      "==============================\n",
      "*** Open Babel Warning  in PerceiveBondOrders\n",
      "  Failed to kekulize aromatic bonds in OBMol::PerceiveBondOrders (title is pdbbind_rna_set_/6e81/6e81_TFX_B.pdb)\n",
      "\n",
      "1 molecule converted\n"
     ]
    },
    {
     "name": "stdout",
     "output_type": "stream",
     "text": [
      "Converted pdbbind_rna_set_/3npn/3npn_SAH_B.pdb to pdbbind_rna_set_/3npn/3npn_SAH_B.mol2\n",
      "Converted pdbbind_rna_set_/6e81/6e81_TFX_B.pdb to pdbbind_rna_set_/6e81/6e81_TFX_B.mol2\n"
     ]
    },
    {
     "name": "stderr",
     "output_type": "stream",
     "text": [
      "1 molecule converted\n",
      "1 molecule converted\n"
     ]
    },
    {
     "name": "stdout",
     "output_type": "stream",
     "text": [
      "Converted pdbbind_rna_set_/2xnz/2xnz_3AW_I.pdb to pdbbind_rna_set_/2xnz/2xnz_3AW_I.mol2\n",
      "Converted pdbbind_rna_set_/4l81/4l81_SAM_B.pdb to pdbbind_rna_set_/4l81/4l81_SAM_B.mol2\n"
     ]
    },
    {
     "name": "stderr",
     "output_type": "stream",
     "text": [
      "1 molecule converted\n"
     ]
    },
    {
     "name": "stdout",
     "output_type": "stream",
     "text": [
      "Converted pdbbind_rna_set_/4nya/4nya_2QB_S.pdb to pdbbind_rna_set_/4nya/4nya_2QB_S.mol2\n"
     ]
    },
    {
     "name": "stderr",
     "output_type": "stream",
     "text": [
      "1 molecule converted\n",
      "==============================\n",
      "*** Open Babel Warning  in PerceiveBondOrders\n",
      "  Failed to kekulize aromatic bonds in OBMol::PerceiveBondOrders (title is pdbbind_rna_set_/6c65/6c65_EKJ_L.pdb)\n",
      "\n",
      "1 molecule converted\n"
     ]
    },
    {
     "name": "stdout",
     "output_type": "stream",
     "text": [
      "Converted pdbbind_rna_set_/1i9v/1i9v_NMY_B.pdb to pdbbind_rna_set_/1i9v/1i9v_NMY_B.mol2\n",
      "Converted pdbbind_rna_set_/6c65/6c65_EKJ_L.pdb to pdbbind_rna_set_/6c65/6c65_EKJ_L.mol2\n"
     ]
    },
    {
     "name": "stderr",
     "output_type": "stream",
     "text": [
      "==============================\n",
      "*** Open Babel Warning  in PerceiveBondOrders\n",
      "  Failed to kekulize aromatic bonds in OBMol::PerceiveBondOrders (title is pdbbind_rna_set_/6e8t/6e8t_HZG_L.pdb)\n",
      "\n",
      "1 molecule converted\n",
      "1 molecule converted\n"
     ]
    },
    {
     "name": "stdout",
     "output_type": "stream",
     "text": [
      "Converted pdbbind_rna_set_/6e8t/6e8t_HZG_L.pdb to pdbbind_rna_set_/6e8t/6e8t_HZG_L.mol2\n",
      "Converted pdbbind_rna_set_/4erl/4erl_LYS_B.pdb to pdbbind_rna_set_/4erl/4erl_LYS_B.mol2\n"
     ]
    },
    {
     "name": "stderr",
     "output_type": "stream",
     "text": [
      "1 molecule converted\n",
      "1 molecule converted\n"
     ]
    },
    {
     "name": "stdout",
     "output_type": "stream",
     "text": [
      "Converted pdbbind_rna_set_/4xwf/4xwf_AMZ_B.pdb to pdbbind_rna_set_/4xwf/4xwf_AMZ_B.mol2\n",
      "Converted pdbbind_rna_set_/2o3x/2o3x_N30_C.pdb to pdbbind_rna_set_/2o3x/2o3x_N30_C.mol2\n"
     ]
    },
    {
     "name": "stderr",
     "output_type": "stream",
     "text": [
      "==============================\n",
      "*** Open Babel Warning  in PerceiveBondOrders\n",
      "  Failed to kekulize aromatic bonds in OBMol::PerceiveBondOrders (title is pdbbind_rna_set_/6e84/6e84_J0D_C.pdb)\n",
      "\n",
      "1 molecule converted\n",
      "1 molecule converted\n"
     ]
    },
    {
     "name": "stdout",
     "output_type": "stream",
     "text": [
      "Converted pdbbind_rna_set_/6e84/6e84_J0D_C.pdb to pdbbind_rna_set_/6e84/6e84_J0D_C.mol2\n",
      "Converted pdbbind_rna_set_/3slm/3slm_DGP_L.pdb to pdbbind_rna_set_/3slm/3slm_DGP_L.mol2\n"
     ]
    },
    {
     "name": "stderr",
     "output_type": "stream",
     "text": [
      "1 molecule converted\n",
      "1 molecule converted\n"
     ]
    },
    {
     "name": "stdout",
     "output_type": "stream",
     "text": [
      "Converted pdbbind_rna_set_/4lvw/4lvw_7DG_C.pdb to pdbbind_rna_set_/4lvw/4lvw_7DG_C.mol2\n",
      "Converted pdbbind_rna_set_/4qlm/4qlm_2BA_E.pdb to pdbbind_rna_set_/4qlm/4qlm_2BA_E.mol2\n"
     ]
    },
    {
     "name": "stderr",
     "output_type": "stream",
     "text": [
      "1 molecule converted\n",
      "1 molecule converted\n"
     ]
    },
    {
     "name": "stdout",
     "output_type": "stream",
     "text": [
      "Converted pdbbind_rna_set_/4qln/4qln_2BA_C.pdb to pdbbind_rna_set_/4qln/4qln_2BA_C.mol2\n",
      "Converted pdbbind_rna_set_/2xo1/2xo1_N6M_B.pdb to pdbbind_rna_set_/2xo1/2xo1_N6M_B.mol2\n"
     ]
    },
    {
     "name": "stderr",
     "output_type": "stream",
     "text": [
      "1 molecule converted\n",
      "1 molecule converted\n"
     ]
    },
    {
     "name": "stdout",
     "output_type": "stream",
     "text": [
      "Converted pdbbind_rna_set_/6dlt/6dlt_PRP_H.pdb to pdbbind_rna_set_/6dlt/6dlt_PRP_H.mol2\n",
      "Converted pdbbind_rna_set_/4yb0/4yb0_C2E_K.pdb to pdbbind_rna_set_/4yb0/4yb0_C2E_K.mol2\n"
     ]
    },
    {
     "name": "stderr",
     "output_type": "stream",
     "text": [
      "1 molecule converted\n",
      "1 molecule converted\n"
     ]
    },
    {
     "name": "stdout",
     "output_type": "stream",
     "text": [
      "Converted pdbbind_rna_set_/4nyb/4nyb_2QC_B.pdb to pdbbind_rna_set_/4nyb/4nyb_2QC_B.mol2\n",
      "Converted pdbbind_rna_set_/3owz/3owz_GLY_C.pdb to pdbbind_rna_set_/3owz/3owz_GLY_C.mol2\n"
     ]
    },
    {
     "name": "stderr",
     "output_type": "stream",
     "text": [
      "1 molecule converted\n",
      "1 molecule converted\n"
     ]
    },
    {
     "name": "stdout",
     "output_type": "stream",
     "text": [
      "Converted pdbbind_rna_set_/2kgp/2kgp_MIX_B.pdb to pdbbind_rna_set_/2kgp/2kgp_MIX_B.mol2\n",
      "Converted pdbbind_rna_set_/2g5k/2g5k_AM2_F.pdb to pdbbind_rna_set_/2g5k/2g5k_AM2_F.mol2\n"
     ]
    },
    {
     "name": "stderr",
     "output_type": "stream",
     "text": [
      "1 molecule converted\n",
      "1 molecule converted\n"
     ]
    },
    {
     "name": "stdout",
     "output_type": "stream",
     "text": [
      "Converted pdbbind_rna_set_/5c7w/5c7w_HPA_J.pdb to pdbbind_rna_set_/5c7w/5c7w_HPA_J.mol2\n",
      "Converted pdbbind_rna_set_/6qn3/6qn3_GLN_G.pdb to pdbbind_rna_set_/6qn3/6qn3_GLN_G.mol2\n"
     ]
    },
    {
     "name": "stderr",
     "output_type": "stream",
     "text": [
      "1 molecule converted\n"
     ]
    },
    {
     "name": "stdout",
     "output_type": "stream",
     "text": [
      "Converted pdbbind_rna_set_/5btp/5btp_AMZ_Q.pdb to pdbbind_rna_set_/5btp/5btp_AMZ_Q.mol2\n"
     ]
    },
    {
     "name": "stderr",
     "output_type": "stream",
     "text": [
      "1 molecule converted\n",
      "1 molecule converted\n"
     ]
    },
    {
     "name": "stdout",
     "output_type": "stream",
     "text": [
      "Converted pdbbind_rna_set_/3mum/3mum_C2E_C.pdb to pdbbind_rna_set_/3mum/3mum_C2E_C.mol2\n",
      "Converted pdbbind_rna_set_/4qk9/4qk9_2BA_C.pdb to pdbbind_rna_set_/4qk9/4qk9_2BA_C.mol2\n"
     ]
    },
    {
     "name": "stderr",
     "output_type": "stream",
     "text": [
      "==============================\n",
      "*** Open Babel Warning  in PerceiveBondOrders\n",
      "  Failed to kekulize aromatic bonds in OBMol::PerceiveBondOrders (title is pdbbind_rna_set_/5v3f/5v3f_74G_F.pdb)\n",
      "\n",
      "1 molecule converted\n",
      "1 molecule converted\n"
     ]
    },
    {
     "name": "stdout",
     "output_type": "stream",
     "text": [
      "Converted pdbbind_rna_set_/5v3f/5v3f_74G_F.pdb to pdbbind_rna_set_/5v3f/5v3f_74G_F.mol2\n",
      "Converted pdbbind_rna_set_/2f4u/2f4u_AB6_C.pdb to pdbbind_rna_set_/2f4u/2f4u_AB6_C.mol2\n"
     ]
    },
    {
     "name": "stderr",
     "output_type": "stream",
     "text": [
      "1 molecule converted\n",
      "1 molecule converted\n"
     ]
    },
    {
     "name": "stdout",
     "output_type": "stream",
     "text": [
      "Converted pdbbind_rna_set_/1f27/1f27_BTN_H.pdb to pdbbind_rna_set_/1f27/1f27_BTN_H.mol2\n",
      "Converted pdbbind_rna_set_/5c7u/5c7u_HPA_I.pdb to pdbbind_rna_set_/5c7u/5c7u_HPA_I.mol2\n"
     ]
    },
    {
     "name": "stderr",
     "output_type": "stream",
     "text": [
      "1 molecule converted\n",
      "1 molecule converted\n"
     ]
    },
    {
     "name": "stdout",
     "output_type": "stream",
     "text": [
      "Converted pdbbind_rna_set_/1uts/1uts_P13_B.pdb to pdbbind_rna_set_/1uts/1uts_P13_B.mol2\n",
      "Converted pdbbind_rna_set_/2b57/2b57_6AP_L.pdb to pdbbind_rna_set_/2b57/2b57_6AP_L.mol2\n"
     ]
    },
    {
     "name": "stderr",
     "output_type": "stream",
     "text": [
      "1 molecule converted\n",
      "1 molecule converted\n"
     ]
    },
    {
     "name": "stdout",
     "output_type": "stream",
     "text": [
      "Converted pdbbind_rna_set_/3ds7/3ds7_GNG_I.pdb to pdbbind_rna_set_/3ds7/3ds7_GNG_I.mol2\n",
      "Converted pdbbind_rna_set_/6dmc/6dmc_G4P_C.pdb to pdbbind_rna_set_/6dmc/6dmc_G4P_C.mol2\n"
     ]
    },
    {
     "name": "stderr",
     "output_type": "stream",
     "text": [
      "1 molecule converted\n",
      "1 molecule converted\n"
     ]
    },
    {
     "name": "stdout",
     "output_type": "stream",
     "text": [
      "Converted pdbbind_rna_set_/2xnw/2xnw_ZZR_J.pdb to pdbbind_rna_set_/2xnw/2xnw_ZZR_J.mol2\n",
      "Converted pdbbind_rna_set_/6hag/6hag_SAH_B.pdb to pdbbind_rna_set_/6hag/6hag_SAH_B.mol2\n"
     ]
    },
    {
     "name": "stderr",
     "output_type": "stream",
     "text": [
      "1 molecule converted\n",
      "1 molecule converted\n"
     ]
    },
    {
     "name": "stdout",
     "output_type": "stream",
     "text": [
      "Converted pdbbind_rna_set_/4ts2/4ts2_38E_H.pdb to pdbbind_rna_set_/4ts2/4ts2_38E_H.mol2\n",
      "Converted pdbbind_rna_set_/2xo0/2xo0_ZZS_K.pdb to pdbbind_rna_set_/2xo0/2xo0_ZZS_K.mol2\n"
     ]
    },
    {
     "name": "stderr",
     "output_type": "stream",
     "text": [
      "1 molecule converted\n",
      "1 molecule converted\n"
     ]
    },
    {
     "name": "stdout",
     "output_type": "stream",
     "text": [
      "Converted pdbbind_rna_set_/3gao/3gao_XAN_B.pdb to pdbbind_rna_set_/3gao/3gao_XAN_B.mol2\n",
      "Converted pdbbind_rna_set_/4ts0/4ts0_38E_R.pdb to pdbbind_rna_set_/4ts0/4ts0_38E_R.mol2\n"
     ]
    },
    {
     "name": "stderr",
     "output_type": "stream",
     "text": [
      "1 molecule converted\n",
      "==============================\n",
      "*** Open Babel Warning  in PerceiveBondOrders\n",
      "  Failed to kekulize aromatic bonds in OBMol::PerceiveBondOrders (title is pdbbind_rna_set_/4nyg/4nyg_VIB_B.pdb)\n",
      "\n",
      "1 molecule converted\n"
     ]
    },
    {
     "name": "stdout",
     "output_type": "stream",
     "text": [
      "Converted pdbbind_rna_set_/4lvy/4lvy_LYA_C.pdb to pdbbind_rna_set_/4lvy/4lvy_LYA_C.mol2\n",
      "Converted pdbbind_rna_set_/4nyg/4nyg_VIB_B.pdb to pdbbind_rna_set_/4nyg/4nyg_VIB_B.mol2\n"
     ]
    },
    {
     "name": "stderr",
     "output_type": "stream",
     "text": [
      "1 molecule converted\n",
      "1 molecule converted\n"
     ]
    },
    {
     "name": "stdout",
     "output_type": "stream",
     "text": [
      "Converted pdbbind_rna_set_/4nyd/4nyd_HPA_B.pdb to pdbbind_rna_set_/4nyd/4nyd_HPA_B.mol2\n",
      "Converted pdbbind_rna_set_/3gog/3gog_6GU_B.pdb to pdbbind_rna_set_/3gog/3gog_6GU_B.mol2\n"
     ]
    },
    {
     "name": "stderr",
     "output_type": "stream",
     "text": [
      "1 molecule converted\n",
      "1 molecule converted\n"
     ]
    },
    {
     "name": "stdout",
     "output_type": "stream",
     "text": [
      "Converted pdbbind_rna_set_/3mxh/3mxh_C2E_D.pdb to pdbbind_rna_set_/3mxh/3mxh_C2E_D.mol2\n",
      "Converted pdbbind_rna_set_/1uud/1uud_P14_B.pdb to pdbbind_rna_set_/1uud/1uud_P14_B.mol2\n"
     ]
    },
    {
     "name": "stderr",
     "output_type": "stream",
     "text": [
      "1 molecule converted\n",
      "1 molecule converted\n"
     ]
    },
    {
     "name": "stdout",
     "output_type": "stream",
     "text": [
      "Converted pdbbind_rna_set_/1yrj/1yrj_AM2_C.pdb to pdbbind_rna_set_/1yrj/1yrj_AM2_C.mol2\n",
      "Converted pdbbind_rna_set_/3ges/3ges_6GO_B.pdb to pdbbind_rna_set_/3ges/3ges_6GO_B.mol2\n"
     ]
    },
    {
     "name": "stderr",
     "output_type": "stream",
     "text": [
      "1 molecule converted\n",
      "1 molecule converted\n"
     ]
    },
    {
     "name": "stdout",
     "output_type": "stream",
     "text": [
      "Converted pdbbind_rna_set_/2ygh/2ygh_SAM_B.pdb to pdbbind_rna_set_/2ygh/2ygh_SAM_B.mol2\n",
      "Converted pdbbind_rna_set_/3q3z/3q3z_C2E_H.pdb to pdbbind_rna_set_/3q3z/3q3z_C2E_H.mol2\n"
     ]
    },
    {
     "name": "stderr",
     "output_type": "stream",
     "text": [
      "1 molecule converted\n",
      "1 molecule converted\n"
     ]
    },
    {
     "name": "stdout",
     "output_type": "stream",
     "text": [
      "Converted pdbbind_rna_set_/6ck4/6ck4_G4P_Z.pdb to pdbbind_rna_set_/6ck4/6ck4_G4P_Z.mol2\n",
      "Converted pdbbind_rna_set_/3e5c/3e5c_SAM_Q.pdb to pdbbind_rna_set_/3e5c/3e5c_SAM_Q.mol2\n"
     ]
    },
    {
     "name": "stderr",
     "output_type": "stream",
     "text": [
      "1 molecule converted\n",
      "1 molecule converted\n"
     ]
    },
    {
     "name": "stdout",
     "output_type": "stream",
     "text": [
      "Converted pdbbind_rna_set_/4jf2/4jf2_PRF_B.pdb to pdbbind_rna_set_/4jf2/4jf2_PRF_B.mol2\n",
      "Converted pdbbind_rna_set_/2l94/2l94_L94_B.pdb to pdbbind_rna_set_/2l94/2l94_L94_B.mol2\n"
     ]
    },
    {
     "name": "stderr",
     "output_type": "stream",
     "text": [
      "1 molecule converted\n",
      "1 molecule converted\n"
     ]
    },
    {
     "name": "stdout",
     "output_type": "stream",
     "text": [
      "Converted pdbbind_rna_set_/3q50/3q50_PRF_B.pdb to pdbbind_rna_set_/3q50/3q50_PRF_B.mol2\n",
      "Converted pdbbind_rna_set_/3s4p/3s4p_JS6_C.pdb to pdbbind_rna_set_/3s4p/3s4p_JS6_C.mol2\n"
     ]
    },
    {
     "name": "stderr",
     "output_type": "stream",
     "text": [
      "1 molecule converted\n",
      "1 molecule converted\n"
     ]
    },
    {
     "name": "stdout",
     "output_type": "stream",
     "text": [
      "Converted pdbbind_rna_set_/2bee/2bee_JS4_C.pdb to pdbbind_rna_set_/2bee/2bee_JS4_C.mol2\n",
      "Converted pdbbind_rna_set_/6p2h/6p2h_GNG_B.pdb to pdbbind_rna_set_/6p2h/6p2h_GNG_B.mol2\n"
     ]
    },
    {
     "name": "stderr",
     "output_type": "stream",
     "text": [
      "1 molecule converted\n",
      "1 molecule converted\n"
     ]
    },
    {
     "name": "stdout",
     "output_type": "stream",
     "text": [
      "Converted pdbbind_rna_set_/6fz0/6fz0_SAM_E.pdb to pdbbind_rna_set_/6fz0/6fz0_SAM_E.mol2\n",
      "Converted pdbbind_rna_set_/4w90/4w90_2BA_D.pdb to pdbbind_rna_set_/4w90/4w90_2BA_D.mol2\n"
     ]
    },
    {
     "name": "stderr",
     "output_type": "stream",
     "text": [
      "1 molecule converted\n",
      "1 molecule converted\n"
     ]
    },
    {
     "name": "stdout",
     "output_type": "stream",
     "text": [
      "Converted pdbbind_rna_set_/2lwk/2lwk_0EC_B.pdb to pdbbind_rna_set_/2lwk/2lwk_0EC_B.mol2\n",
      "Converted pdbbind_rna_set_/4nyc/4nyc_SVN_B.pdb to pdbbind_rna_set_/4nyc/4nyc_SVN_B.mol2\n"
     ]
    },
    {
     "name": "stderr",
     "output_type": "stream",
     "text": [
      "==============================\n",
      "*** Open Babel Warning  in PerceiveBondOrders\n",
      "  Failed to kekulize aromatic bonds in OBMol::PerceiveBondOrders (title is pdbbind_rna_set_/1f1t/1f1t_ROS_J.pdb)\n",
      "\n",
      "1 molecule converted\n",
      "1 molecule converted\n"
     ]
    },
    {
     "name": "stdout",
     "output_type": "stream",
     "text": [
      "Converted pdbbind_rna_set_/1f1t/1f1t_ROS_J.pdb to pdbbind_rna_set_/1f1t/1f1t_ROS_J.mol2\n",
      "Converted pdbbind_rna_set_/4yaz/4yaz_4BW_L.pdb to pdbbind_rna_set_/4yaz/4yaz_4BW_L.mol2\n"
     ]
    },
    {
     "name": "stderr",
     "output_type": "stream",
     "text": [
      "1 molecule converted\n",
      "==============================\n",
      "*** Open Babel Warning  in PerceiveBondOrders\n",
      "  Failed to kekulize aromatic bonds in OBMol::PerceiveBondOrders (title is pdbbind_rna_set_/6e8s/6e8s_EKJ_G.pdb)\n",
      "\n",
      "1 molecule converted\n"
     ]
    },
    {
     "name": "stdout",
     "output_type": "stream",
     "text": [
      "Converted pdbbind_rna_set_/1fyp/1fyp_PAR_B.pdb to pdbbind_rna_set_/1fyp/1fyp_PAR_B.mol2\n",
      "Converted pdbbind_rna_set_/6e8s/6e8s_EKJ_G.pdb to pdbbind_rna_set_/6e8s/6e8s_EKJ_G.mol2\n"
     ]
    },
    {
     "name": "stderr",
     "output_type": "stream",
     "text": [
      "1 molecule converted\n",
      "1 molecule converted\n"
     ]
    },
    {
     "name": "stdout",
     "output_type": "stream",
     "text": [
      "Converted pdbbind_rna_set_/4oqu/4oqu_SAM_B.pdb to pdbbind_rna_set_/4oqu/4oqu_SAM_B.mol2\n",
      "Converted pdbbind_rna_set_/2f4t/2f4t_AB9_C.pdb to pdbbind_rna_set_/2f4t/2f4t_AB9_C.mol2\n"
     ]
    },
    {
     "name": "stderr",
     "output_type": "stream",
     "text": [
      "1 molecule converted\n",
      "1 molecule converted\n"
     ]
    },
    {
     "name": "stdout",
     "output_type": "stream",
     "text": [
      "Converted pdbbind_rna_set_/3got/3got_A2F_B.pdb to pdbbind_rna_set_/3got/3got_A2F_B.mol2\n",
      "Converted pdbbind_rna_set_/2ku0/2ku0_ISI_B.pdb to pdbbind_rna_set_/2ku0/2ku0_ISI_B.mol2\n"
     ]
    },
    {
     "name": "stderr",
     "output_type": "stream",
     "text": [
      "1 molecule converted\n",
      "1 molecule converted\n"
     ]
    },
    {
     "name": "stdout",
     "output_type": "stream",
     "text": [
      "Converted pdbbind_rna_set_/3ger/3ger_6GU_B.pdb to pdbbind_rna_set_/3ger/3ger_6GU_B.mol2\n",
      "Converted pdbbind_rna_set_/3b31/3b31_IRI_C.pdb to pdbbind_rna_set_/3b31/3b31_IRI_C.mol2\n"
     ]
    },
    {
     "name": "stderr",
     "output_type": "stream",
     "text": [
      "1 molecule converted\n",
      "1 molecule converted\n"
     ]
    },
    {
     "name": "stdout",
     "output_type": "stream",
     "text": [
      "Converted pdbbind_rna_set_/3fo4/3fo4_6GU_B.pdb to pdbbind_rna_set_/3fo4/3fo4_6GU_B.mol2\n",
      "Converted pdbbind_rna_set_/5lwj/5lwj_GTP_B.pdb to pdbbind_rna_set_/5lwj/5lwj_GTP_B.mol2\n",
      "Converted pdbbind_rna_set_/2mxs/2mxs_PAR_B.pdb to pdbbind_rna_set_/2mxs/2mxs_PAR_B.mol2\n"
     ]
    },
    {
     "name": "stderr",
     "output_type": "stream",
     "text": [
      "1 molecule converted\n"
     ]
    }
   ],
   "source": [
    "convert_pdb_to_mol2(pdbbind_rna_set_dir)"
   ]
  },
  {
   "cell_type": "code",
   "execution_count": null,
   "metadata": {},
   "outputs": [],
   "source": []
  }
 ],
 "metadata": {
  "kernelspec": {
   "display_name": "Python 3",
   "language": "python",
   "name": "python3"
  },
  "language_info": {
   "codemirror_mode": {
    "name": "ipython",
    "version": 3
   },
   "file_extension": ".py",
   "mimetype": "text/x-python",
   "name": "python",
   "nbconvert_exporter": "python",
   "pygments_lexer": "ipython3",
   "version": "3.9.19"
  },
  "orig_nbformat": 4
 },
 "nbformat": 4,
 "nbformat_minor": 2
}
